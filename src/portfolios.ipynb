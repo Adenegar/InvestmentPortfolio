{
 "cells": [
  {
   "cell_type": "markdown",
   "metadata": {},
   "source": [
    "# Portfolios\n",
    "\n",
    "In this notebook we create and evaluate investment portfolios. Saved results can be evaluated in evaluate.ipynb."
   ]
  },
  {
   "cell_type": "code",
   "execution_count": null,
   "metadata": {},
   "outputs": [
    {
     "name": "stderr",
     "output_type": "stream",
     "text": [
      "WARNING:ratios:Missing data for Inventory in 2023: 'Inventory'\n",
      "WARNING:ratios:Missing data for Inventory in 2022: 'Inventory'\n",
      "/Users/adene/Documents/School/Carroll_2024-25/SeniorProject-PortfolioManagement/src/ratios.py:136: FutureWarning: Series.__getitem__ treating keys as positions is deprecated. In a future version, integer keys will always be treated as labels (consistent with DataFrame behavior). To access a value by position, use `ser.iloc[pos]`\n",
      "  market_price_per_share = stock.adj_close[-1]\n",
      "/Users/adene/Documents/School/Carroll_2024-25/SeniorProject-PortfolioManagement/src/ratios.py:136: FutureWarning: Series.__getitem__ treating keys as positions is deprecated. In a future version, integer keys will always be treated as labels (consistent with DataFrame behavior). To access a value by position, use `ser.iloc[pos]`\n",
      "  market_price_per_share = stock.adj_close[-1]\n",
      "/Users/adene/Documents/School/Carroll_2024-25/SeniorProject-PortfolioManagement/src/ratios.py:136: FutureWarning: Series.__getitem__ treating keys as positions is deprecated. In a future version, integer keys will always be treated as labels (consistent with DataFrame behavior). To access a value by position, use `ser.iloc[pos]`\n",
      "  market_price_per_share = stock.adj_close[-1]\n",
      "/Users/adene/Documents/School/Carroll_2024-25/SeniorProject-PortfolioManagement/src/ratios.py:136: FutureWarning: Series.__getitem__ treating keys as positions is deprecated. In a future version, integer keys will always be treated as labels (consistent with DataFrame behavior). To access a value by position, use `ser.iloc[pos]`\n",
      "  market_price_per_share = stock.adj_close[-1]\n",
      "/Users/adene/Documents/School/Carroll_2024-25/SeniorProject-PortfolioManagement/src/ratios.py:136: FutureWarning: Series.__getitem__ treating keys as positions is deprecated. In a future version, integer keys will always be treated as labels (consistent with DataFrame behavior). To access a value by position, use `ser.iloc[pos]`\n",
      "  market_price_per_share = stock.adj_close[-1]\n"
     ]
    },
    {
     "name": "stdout",
     "output_type": "stream",
     "text": [
      "Processing MSFT... Success in 10.06 sec\n",
      "Processing NVDA... Success in 10.17 sec\n"
     ]
    },
    {
     "name": "stderr",
     "output_type": "stream",
     "text": [
      "/Users/adene/Documents/School/Carroll_2024-25/SeniorProject-PortfolioManagement/src/ratios.py:136: FutureWarning: Series.__getitem__ treating keys as positions is deprecated. In a future version, integer keys will always be treated as labels (consistent with DataFrame behavior). To access a value by position, use `ser.iloc[pos]`\n",
      "  market_price_per_share = stock.adj_close[-1]\n",
      "/Users/adene/Documents/School/Carroll_2024-25/SeniorProject-PortfolioManagement/src/ratios.py:136: FutureWarning: Series.__getitem__ treating keys as positions is deprecated. In a future version, integer keys will always be treated as labels (consistent with DataFrame behavior). To access a value by position, use `ser.iloc[pos]`\n",
      "  market_price_per_share = stock.adj_close[-1]\n",
      "/Users/adene/Documents/School/Carroll_2024-25/SeniorProject-PortfolioManagement/src/ratios.py:136: FutureWarning: Series.__getitem__ treating keys as positions is deprecated. In a future version, integer keys will always be treated as labels (consistent with DataFrame behavior). To access a value by position, use `ser.iloc[pos]`\n",
      "  market_price_per_share = stock.adj_close[-1]\n",
      "/Users/adene/Documents/School/Carroll_2024-25/SeniorProject-PortfolioManagement/src/ratios.py:136: FutureWarning: Series.__getitem__ treating keys as positions is deprecated. In a future version, integer keys will always be treated as labels (consistent with DataFrame behavior). To access a value by position, use `ser.iloc[pos]`\n",
      "  market_price_per_share = stock.adj_close[-1]\n"
     ]
    },
    {
     "name": "stdout",
     "output_type": "stream",
     "text": [
      "Processing AAPL... Success in 10.36 sec\n"
     ]
    },
    {
     "name": "stderr",
     "output_type": "stream",
     "text": [
      "WARNING:ratios:Missing data for Cash Dividends Paid in 2023: 'Cash Dividends Paid'\n"
     ]
    },
    {
     "name": "stdout",
     "output_type": "stream",
     "text": [
      "Processing MRNA... Success in 10.66 sec\n",
      "Processing INTC... Success in 11.51 sec\n"
     ]
    },
    {
     "name": "stderr",
     "output_type": "stream",
     "text": [
      "/Users/adene/Documents/School/Carroll_2024-25/SeniorProject-PortfolioManagement/src/ratios.py:136: FutureWarning: Series.__getitem__ treating keys as positions is deprecated. In a future version, integer keys will always be treated as labels (consistent with DataFrame behavior). To access a value by position, use `ser.iloc[pos]`\n",
      "  market_price_per_share = stock.adj_close[-1]\n"
     ]
    },
    {
     "name": "stdout",
     "output_type": "stream",
     "text": [
      "Processing IBM... Success in 13.82 sec\n",
      "Processing JNJ... Success in 13.92 sec\n",
      "Processing PFE... Success in 14.16 sec\n"
     ]
    },
    {
     "name": "stderr",
     "output_type": "stream",
     "text": [
      "WARNING:ratios:Missing data for Cost Of Revenue in 2023: 'Cost Of Revenue'\n",
      "WARNING:ratios:Missing data for Current Assets in 2023: 'Current Assets'\n",
      "WARNING:ratios:Missing data for Current Liabilities in 2023: 'Current Liabilities'\n",
      "WARNING:ratios:Missing data for Inventory in 2023: 'Inventory'\n",
      "WARNING:ratios:Missing data for Inventory in 2022: 'Inventory'\n"
     ]
    },
    {
     "name": "stdout",
     "output_type": "stream",
     "text": [
      "Processing ABBV... Success in 14.52 sec\n"
     ]
    },
    {
     "name": "stderr",
     "output_type": "stream",
     "text": [
      "WARNING:ratios:Missing data for Cost Of Revenue in 2023: 'Cost Of Revenue'\n",
      "WARNING:ratios:Missing data for Current Assets in 2023: 'Current Assets'\n",
      "WARNING:ratios:Missing data for Current Liabilities in 2023: 'Current Liabilities'\n",
      "WARNING:ratios:Missing data for Inventory in 2023: 'Inventory'\n",
      "WARNING:ratios:Missing data for Inventory in 2022: 'Inventory'\n",
      "WARNING:ratios:Missing data for Cost Of Revenue in 2023: 'Cost Of Revenue'\n",
      "WARNING:ratios:Missing data for Current Assets in 2023: 'Current Assets'\n",
      "WARNING:ratios:Missing data for Current Liabilities in 2023: 'Current Liabilities'\n",
      "WARNING:ratios:Missing data for Inventory in 2023: 'Inventory'\n",
      "WARNING:ratios:Missing data for Inventory in 2022: 'Inventory'\n"
     ]
    },
    {
     "name": "stdout",
     "output_type": "stream",
     "text": [
      "Processing UNH... Success in 15.34 sec\n"
     ]
    },
    {
     "name": "stderr",
     "output_type": "stream",
     "text": [
      "WARNING:ratios:Missing data for Cost Of Revenue in 2023: 'Cost Of Revenue'\n",
      "WARNING:ratios:Missing data for Current Assets in 2023: 'Current Assets'\n",
      "WARNING:ratios:Missing data for Current Liabilities in 2023: 'Current Liabilities'\n",
      "WARNING:ratios:Missing data for Inventory in 2023: 'Inventory'\n",
      "WARNING:ratios:Missing data for Inventory in 2022: 'Inventory'\n",
      "WARNING:ratios:Missing data for Cost Of Revenue in 2023: 'Cost Of Revenue'\n",
      "WARNING:ratios:Missing data for Current Assets in 2023: 'Current Assets'\n",
      "WARNING:ratios:Missing data for Current Liabilities in 2023: 'Current Liabilities'\n",
      "WARNING:ratios:Missing data for Inventory in 2023: 'Inventory'\n",
      "WARNING:ratios:Missing data for Inventory in 2022: 'Inventory'\n",
      "/Users/adene/Documents/School/Carroll_2024-25/SeniorProject-PortfolioManagement/src/ratios.py:136: FutureWarning: Series.__getitem__ treating keys as positions is deprecated. In a future version, integer keys will always be treated as labels (consistent with DataFrame behavior). To access a value by position, use `ser.iloc[pos]`\n",
      "  market_price_per_share = stock.adj_close[-1]\n",
      "/Users/adene/Documents/School/Carroll_2024-25/SeniorProject-PortfolioManagement/src/ratios.py:136: FutureWarning: Series.__getitem__ treating keys as positions is deprecated. In a future version, integer keys will always be treated as labels (consistent with DataFrame behavior). To access a value by position, use `ser.iloc[pos]`\n",
      "  market_price_per_share = stock.adj_close[-1]\n",
      "/Users/adene/Documents/School/Carroll_2024-25/SeniorProject-PortfolioManagement/src/ratios.py:136: FutureWarning: Series.__getitem__ treating keys as positions is deprecated. In a future version, integer keys will always be treated as labels (consistent with DataFrame behavior). To access a value by position, use `ser.iloc[pos]`\n",
      "  market_price_per_share = stock.adj_close[-1]\n",
      "WARNING:ratios:Missing data for EBIT in 2023: 'EBIT'\n"
     ]
    },
    {
     "name": "stdout",
     "output_type": "stream",
     "text": [
      "Processing GS... Success in 7.47 sec\n"
     ]
    },
    {
     "name": "stderr",
     "output_type": "stream",
     "text": [
      "WARNING:ratios:Missing data for EBIT in 2023: 'EBIT'\n",
      "WARNING:ratios:Missing data for EBIT in 2023: 'EBIT'\n"
     ]
    },
    {
     "name": "stdout",
     "output_type": "stream",
     "text": [
      "Processing JPM... Success in 7.97 sec\n",
      "Processing BAC... Success in 7.99 sec\n"
     ]
    },
    {
     "name": "stderr",
     "output_type": "stream",
     "text": [
      "/Users/adene/Documents/School/Carroll_2024-25/SeniorProject-PortfolioManagement/src/ratios.py:136: FutureWarning: Series.__getitem__ treating keys as positions is deprecated. In a future version, integer keys will always be treated as labels (consistent with DataFrame behavior). To access a value by position, use `ser.iloc[pos]`\n",
      "  market_price_per_share = stock.adj_close[-1]\n",
      "/Users/adene/Documents/School/Carroll_2024-25/SeniorProject-PortfolioManagement/src/ratios.py:136: FutureWarning: Series.__getitem__ treating keys as positions is deprecated. In a future version, integer keys will always be treated as labels (consistent with DataFrame behavior). To access a value by position, use `ser.iloc[pos]`\n",
      "  market_price_per_share = stock.adj_close[-1]\n",
      "/Users/adene/Documents/School/Carroll_2024-25/SeniorProject-PortfolioManagement/src/ratios.py:136: FutureWarning: Series.__getitem__ treating keys as positions is deprecated. In a future version, integer keys will always be treated as labels (consistent with DataFrame behavior). To access a value by position, use `ser.iloc[pos]`\n",
      "  market_price_per_share = stock.adj_close[-1]\n",
      "/Users/adene/Documents/School/Carroll_2024-25/SeniorProject-PortfolioManagement/src/ratios.py:136: FutureWarning: Series.__getitem__ treating keys as positions is deprecated. In a future version, integer keys will always be treated as labels (consistent with DataFrame behavior). To access a value by position, use `ser.iloc[pos]`\n",
      "  market_price_per_share = stock.adj_close[-1]\n",
      "WARNING:ratios:Missing data for EBIT in 2023: 'EBIT'\n",
      "/Users/adene/Documents/School/Carroll_2024-25/SeniorProject-PortfolioManagement/src/ratios.py:136: FutureWarning: Series.__getitem__ treating keys as positions is deprecated. In a future version, integer keys will always be treated as labels (consistent with DataFrame behavior). To access a value by position, use `ser.iloc[pos]`\n",
      "  market_price_per_share = stock.adj_close[-1]\n"
     ]
    },
    {
     "name": "stdout",
     "output_type": "stream",
     "text": [
      "Processing WFC... Success in 8.97 sec\n"
     ]
    },
    {
     "name": "stderr",
     "output_type": "stream",
     "text": [
      "WARNING:ratios:Missing data for EBIT in 2023: 'EBIT'\n"
     ]
    },
    {
     "name": "stdout",
     "output_type": "stream",
     "text": [
      "Processing C... Success in 8.62 sec\n",
      "Processing HD... Success in 6.45 sec\n"
     ]
    },
    {
     "name": "stderr",
     "output_type": "stream",
     "text": [
      "/Users/adene/Documents/School/Carroll_2024-25/SeniorProject-PortfolioManagement/src/ratios.py:136: FutureWarning: Series.__getitem__ treating keys as positions is deprecated. In a future version, integer keys will always be treated as labels (consistent with DataFrame behavior). To access a value by position, use `ser.iloc[pos]`\n",
      "  market_price_per_share = stock.adj_close[-1]\n",
      "WARNING:ratios:Missing data for Cash Dividends Paid in 2023: 'Cash Dividends Paid'\n"
     ]
    },
    {
     "name": "stdout",
     "output_type": "stream",
     "text": [
      "Processing TSLA... Success in 6.26 sec\n"
     ]
    },
    {
     "name": "stderr",
     "output_type": "stream",
     "text": [
      "/Users/adene/Documents/School/Carroll_2024-25/SeniorProject-PortfolioManagement/src/ratios.py:136: FutureWarning: Series.__getitem__ treating keys as positions is deprecated. In a future version, integer keys will always be treated as labels (consistent with DataFrame behavior). To access a value by position, use `ser.iloc[pos]`\n",
      "  market_price_per_share = stock.adj_close[-1]\n",
      "WARNING:ratios:Missing data for Cash Dividends Paid in 2023: 'Cash Dividends Paid'\n"
     ]
    },
    {
     "name": "stdout",
     "output_type": "stream",
     "text": [
      "Processing AMZN... Success in 6.86 sec\n"
     ]
    },
    {
     "name": "stderr",
     "output_type": "stream",
     "text": [
      "WARNING:ratios:Missing data for Interest Expense in 2023: 'Interest Expense'\n"
     ]
    },
    {
     "name": "stdout",
     "output_type": "stream",
     "text": [
      "Processing MCD... Success in 8.43 sec\n",
      "Processing NKE... Success in 7.21 sec\n"
     ]
    },
    {
     "name": "stderr",
     "output_type": "stream",
     "text": [
      "/Users/adene/Documents/School/Carroll_2024-25/SeniorProject-PortfolioManagement/src/ratios.py:136: FutureWarning: Series.__getitem__ treating keys as positions is deprecated. In a future version, integer keys will always be treated as labels (consistent with DataFrame behavior). To access a value by position, use `ser.iloc[pos]`\n",
      "  market_price_per_share = stock.adj_close[-1]\n",
      "/Users/adene/Documents/School/Carroll_2024-25/SeniorProject-PortfolioManagement/src/ratios.py:136: FutureWarning: Series.__getitem__ treating keys as positions is deprecated. In a future version, integer keys will always be treated as labels (consistent with DataFrame behavior). To access a value by position, use `ser.iloc[pos]`\n",
      "  market_price_per_share = stock.adj_close[-1]\n",
      "/Users/adene/Documents/School/Carroll_2024-25/SeniorProject-PortfolioManagement/src/ratios.py:136: FutureWarning: Series.__getitem__ treating keys as positions is deprecated. In a future version, integer keys will always be treated as labels (consistent with DataFrame behavior). To access a value by position, use `ser.iloc[pos]`\n",
      "  market_price_per_share = stock.adj_close[-1]\n"
     ]
    },
    {
     "name": "stdout",
     "output_type": "stream",
     "text": [
      "Processing WMT... Success in 5.82 sec\n",
      "Processing PG... Success in 6.47 sec\n",
      "Processing KO... Success in 6.35 sec\n"
     ]
    },
    {
     "name": "stderr",
     "output_type": "stream",
     "text": [
      "/Users/adene/Documents/School/Carroll_2024-25/SeniorProject-PortfolioManagement/src/ratios.py:136: FutureWarning: Series.__getitem__ treating keys as positions is deprecated. In a future version, integer keys will always be treated as labels (consistent with DataFrame behavior). To access a value by position, use `ser.iloc[pos]`\n",
      "  market_price_per_share = stock.adj_close[-1]\n",
      "/Users/adene/Documents/School/Carroll_2024-25/SeniorProject-PortfolioManagement/src/ratios.py:136: FutureWarning: Series.__getitem__ treating keys as positions is deprecated. In a future version, integer keys will always be treated as labels (consistent with DataFrame behavior). To access a value by position, use `ser.iloc[pos]`\n",
      "  market_price_per_share = stock.adj_close[-1]\n",
      "/Users/adene/Documents/School/Carroll_2024-25/SeniorProject-PortfolioManagement/src/ratios.py:136: FutureWarning: Series.__getitem__ treating keys as positions is deprecated. In a future version, integer keys will always be treated as labels (consistent with DataFrame behavior). To access a value by position, use `ser.iloc[pos]`\n",
      "  market_price_per_share = stock.adj_close[-1]\n"
     ]
    },
    {
     "name": "stdout",
     "output_type": "stream",
     "text": [
      "Processing COST... Success in 6.01 sec\n"
     ]
    },
    {
     "name": "stderr",
     "output_type": "stream",
     "text": [
      "/Users/adene/Documents/School/Carroll_2024-25/SeniorProject-PortfolioManagement/src/ratios.py:136: FutureWarning: Series.__getitem__ treating keys as positions is deprecated. In a future version, integer keys will always be treated as labels (consistent with DataFrame behavior). To access a value by position, use `ser.iloc[pos]`\n",
      "  market_price_per_share = stock.adj_close[-1]\n"
     ]
    },
    {
     "name": "stdout",
     "output_type": "stream",
     "text": [
      "Processing PEP... Success in 6.01 sec\n",
      "Processing XOM... Success in 6.38 sec\n"
     ]
    },
    {
     "name": "stderr",
     "output_type": "stream",
     "text": [
      "/Users/adene/Documents/School/Carroll_2024-25/SeniorProject-PortfolioManagement/src/ratios.py:136: FutureWarning: Series.__getitem__ treating keys as positions is deprecated. In a future version, integer keys will always be treated as labels (consistent with DataFrame behavior). To access a value by position, use `ser.iloc[pos]`\n",
      "  market_price_per_share = stock.adj_close[-1]\n",
      "/Users/adene/Documents/School/Carroll_2024-25/SeniorProject-PortfolioManagement/src/ratios.py:136: FutureWarning: Series.__getitem__ treating keys as positions is deprecated. In a future version, integer keys will always be treated as labels (consistent with DataFrame behavior). To access a value by position, use `ser.iloc[pos]`\n",
      "  market_price_per_share = stock.adj_close[-1]\n"
     ]
    },
    {
     "name": "stdout",
     "output_type": "stream",
     "text": [
      "Processing CVX... Success in 6.76 sec\n"
     ]
    },
    {
     "name": "stderr",
     "output_type": "stream",
     "text": [
      "/Users/adene/Documents/School/Carroll_2024-25/SeniorProject-PortfolioManagement/src/ratios.py:136: FutureWarning: Series.__getitem__ treating keys as positions is deprecated. In a future version, integer keys will always be treated as labels (consistent with DataFrame behavior). To access a value by position, use `ser.iloc[pos]`\n",
      "  market_price_per_share = stock.adj_close[-1]\n"
     ]
    },
    {
     "name": "stdout",
     "output_type": "stream",
     "text": [
      "Processing SLB... Success in 6.92 sec\n",
      "Processing EOG... Success in 6.27 sec\n"
     ]
    },
    {
     "name": "stderr",
     "output_type": "stream",
     "text": [
      "/Users/adene/Documents/School/Carroll_2024-25/SeniorProject-PortfolioManagement/src/ratios.py:136: FutureWarning: Series.__getitem__ treating keys as positions is deprecated. In a future version, integer keys will always be treated as labels (consistent with DataFrame behavior). To access a value by position, use `ser.iloc[pos]`\n",
      "  market_price_per_share = stock.adj_close[-1]\n",
      "/Users/adene/Documents/School/Carroll_2024-25/SeniorProject-PortfolioManagement/src/ratios.py:136: FutureWarning: Series.__getitem__ treating keys as positions is deprecated. In a future version, integer keys will always be treated as labels (consistent with DataFrame behavior). To access a value by position, use `ser.iloc[pos]`\n",
      "  market_price_per_share = stock.adj_close[-1]\n"
     ]
    },
    {
     "name": "stdout",
     "output_type": "stream",
     "text": [
      "Processing OXY... Success in 6.67 sec\n"
     ]
    },
    {
     "name": "stderr",
     "output_type": "stream",
     "text": [
      "/Users/adene/Documents/School/Carroll_2024-25/SeniorProject-PortfolioManagement/src/ratios.py:136: FutureWarning: Series.__getitem__ treating keys as positions is deprecated. In a future version, integer keys will always be treated as labels (consistent with DataFrame behavior). To access a value by position, use `ser.iloc[pos]`\n",
      "  market_price_per_share = stock.adj_close[-1]\n",
      "/Users/adene/Documents/School/Carroll_2024-25/SeniorProject-PortfolioManagement/src/ratios.py:136: FutureWarning: Series.__getitem__ treating keys as positions is deprecated. In a future version, integer keys will always be treated as labels (consistent with DataFrame behavior). To access a value by position, use `ser.iloc[pos]`\n",
      "  market_price_per_share = stock.adj_close[-1]\n"
     ]
    },
    {
     "name": "stdout",
     "output_type": "stream",
     "text": [
      "Processing CAT... Success in 6.60 sec\n"
     ]
    },
    {
     "name": "stderr",
     "output_type": "stream",
     "text": [
      "/Users/adene/Documents/School/Carroll_2024-25/SeniorProject-PortfolioManagement/src/ratios.py:136: FutureWarning: Series.__getitem__ treating keys as positions is deprecated. In a future version, integer keys will always be treated as labels (consistent with DataFrame behavior). To access a value by position, use `ser.iloc[pos]`\n",
      "  market_price_per_share = stock.adj_close[-1]\n"
     ]
    },
    {
     "name": "stdout",
     "output_type": "stream",
     "text": [
      "Processing DE... Success in 6.89 sec\n"
     ]
    },
    {
     "name": "stderr",
     "output_type": "stream",
     "text": [
      "/Users/adene/Documents/School/Carroll_2024-25/SeniorProject-PortfolioManagement/src/ratios.py:136: FutureWarning: Series.__getitem__ treating keys as positions is deprecated. In a future version, integer keys will always be treated as labels (consistent with DataFrame behavior). To access a value by position, use `ser.iloc[pos]`\n",
      "  market_price_per_share = stock.adj_close[-1]\n"
     ]
    },
    {
     "name": "stdout",
     "output_type": "stream",
     "text": [
      "Processing BA... Success in 7.68 sec\n"
     ]
    },
    {
     "name": "stderr",
     "output_type": "stream",
     "text": [
      "/Users/adene/Documents/School/Carroll_2024-25/SeniorProject-PortfolioManagement/src/ratios.py:136: FutureWarning: Series.__getitem__ treating keys as positions is deprecated. In a future version, integer keys will always be treated as labels (consistent with DataFrame behavior). To access a value by position, use `ser.iloc[pos]`\n",
      "  market_price_per_share = stock.adj_close[-1]\n",
      "/Users/adene/Documents/School/Carroll_2024-25/SeniorProject-PortfolioManagement/src/ratios.py:136: FutureWarning: Series.__getitem__ treating keys as positions is deprecated. In a future version, integer keys will always be treated as labels (consistent with DataFrame behavior). To access a value by position, use `ser.iloc[pos]`\n",
      "  market_price_per_share = stock.adj_close[-1]\n"
     ]
    },
    {
     "name": "stdout",
     "output_type": "stream",
     "text": [
      "Processing HON... Success in 7.91 sec\n"
     ]
    },
    {
     "name": "stderr",
     "output_type": "stream",
     "text": [
      "/Users/adene/Documents/School/Carroll_2024-25/SeniorProject-PortfolioManagement/src/ratios.py:136: FutureWarning: Series.__getitem__ treating keys as positions is deprecated. In a future version, integer keys will always be treated as labels (consistent with DataFrame behavior). To access a value by position, use `ser.iloc[pos]`\n",
      "  market_price_per_share = stock.adj_close[-1]\n"
     ]
    },
    {
     "name": "stdout",
     "output_type": "stream",
     "text": [
      "Processing DUK... Success in 8.42 sec\n"
     ]
    },
    {
     "name": "stderr",
     "output_type": "stream",
     "text": [
      "/Users/adene/Documents/School/Carroll_2024-25/SeniorProject-PortfolioManagement/src/ratios.py:136: FutureWarning: Series.__getitem__ treating keys as positions is deprecated. In a future version, integer keys will always be treated as labels (consistent with DataFrame behavior). To access a value by position, use `ser.iloc[pos]`\n",
      "  market_price_per_share = stock.adj_close[-1]\n"
     ]
    },
    {
     "name": "stdout",
     "output_type": "stream",
     "text": [
      "Processing SO... Success in 8.25 sec\n",
      "Processing DOW... Success in 7.70 sec\n",
      "Processing AEP... Success in 9.31 sec\n"
     ]
    },
    {
     "name": "stderr",
     "output_type": "stream",
     "text": [
      "/Users/adene/Documents/School/Carroll_2024-25/SeniorProject-PortfolioManagement/src/ratios.py:136: FutureWarning: Series.__getitem__ treating keys as positions is deprecated. In a future version, integer keys will always be treated as labels (consistent with DataFrame behavior). To access a value by position, use `ser.iloc[pos]`\n",
      "  market_price_per_share = stock.adj_close[-1]\n"
     ]
    },
    {
     "name": "stdout",
     "output_type": "stream",
     "text": [
      "Processing EXC... Success in 9.57 sec\n",
      "Processing FCX... Success in 8.82 sec\n"
     ]
    },
    {
     "name": "stderr",
     "output_type": "stream",
     "text": [
      "/Users/adene/Documents/School/Carroll_2024-25/SeniorProject-PortfolioManagement/src/ratios.py:136: FutureWarning: Series.__getitem__ treating keys as positions is deprecated. In a future version, integer keys will always be treated as labels (consistent with DataFrame behavior). To access a value by position, use `ser.iloc[pos]`\n",
      "  market_price_per_share = stock.adj_close[-1]\n",
      "WARNING:ratios:Missing data for Inventory in 2023: 'Inventory'\n",
      "WARNING:ratios:Missing data for Inventory in 2022: 'Inventory'\n",
      "/Users/adene/Documents/School/Carroll_2024-25/SeniorProject-PortfolioManagement/src/ratios.py:136: FutureWarning: Series.__getitem__ treating keys as positions is deprecated. In a future version, integer keys will always be treated as labels (consistent with DataFrame behavior). To access a value by position, use `ser.iloc[pos]`\n",
      "  market_price_per_share = stock.adj_close[-1]\n"
     ]
    },
    {
     "name": "stdout",
     "output_type": "stream",
     "text": [
      "Processing LIN... Success in 9.36 sec\n"
     ]
    },
    {
     "name": "stderr",
     "output_type": "stream",
     "text": [
      "/Users/adene/Documents/School/Carroll_2024-25/SeniorProject-PortfolioManagement/src/ratios.py:136: FutureWarning: Series.__getitem__ treating keys as positions is deprecated. In a future version, integer keys will always be treated as labels (consistent with DataFrame behavior). To access a value by position, use `ser.iloc[pos]`\n",
      "  market_price_per_share = stock.adj_close[-1]\n",
      "WARNING:ratios:Missing data for Inventory in 2023: 'Inventory'\n",
      "WARNING:ratios:Missing data for Inventory in 2022: 'Inventory'\n"
     ]
    },
    {
     "name": "stdout",
     "output_type": "stream",
     "text": [
      "Processing NEM... Success in 9.76 sec\n"
     ]
    },
    {
     "name": "stderr",
     "output_type": "stream",
     "text": [
      "/Users/adene/Documents/School/Carroll_2024-25/SeniorProject-PortfolioManagement/src/ratios.py:136: FutureWarning: Series.__getitem__ treating keys as positions is deprecated. In a future version, integer keys will always be treated as labels (consistent with DataFrame behavior). To access a value by position, use `ser.iloc[pos]`\n",
      "  market_price_per_share = stock.adj_close[-1]\n",
      "WARNING:ratios:Missing data for Inventory in 2023: 'Inventory'\n",
      "WARNING:ratios:Missing data for Inventory in 2022: 'Inventory'\n",
      "WARNING:ratios:Missing data for Cash Dividends Paid in 2023: 'Cash Dividends Paid'\n"
     ]
    },
    {
     "name": "stdout",
     "output_type": "stream",
     "text": [
      "Processing DIS... Success in 9.60 sec\n",
      "Processing NFLX... Success in 8.20 sec\n"
     ]
    },
    {
     "name": "stderr",
     "output_type": "stream",
     "text": [
      "/Users/adene/Documents/School/Carroll_2024-25/SeniorProject-PortfolioManagement/src/ratios.py:136: FutureWarning: Series.__getitem__ treating keys as positions is deprecated. In a future version, integer keys will always be treated as labels (consistent with DataFrame behavior). To access a value by position, use `ser.iloc[pos]`\n",
      "  market_price_per_share = stock.adj_close[-1]\n",
      "WARNING:ratios:Missing data for Inventory in 2023: 'Inventory'\n",
      "WARNING:ratios:Missing data for Inventory in 2022: 'Inventory'\n",
      "/Users/adene/Documents/School/Carroll_2024-25/SeniorProject-PortfolioManagement/src/ratios.py:136: FutureWarning: Series.__getitem__ treating keys as positions is deprecated. In a future version, integer keys will always be treated as labels (consistent with DataFrame behavior). To access a value by position, use `ser.iloc[pos]`\n",
      "  market_price_per_share = stock.adj_close[-1]\n",
      "/Users/adene/Documents/School/Carroll_2024-25/SeniorProject-PortfolioManagement/src/ratios.py:136: FutureWarning: Series.__getitem__ treating keys as positions is deprecated. In a future version, integer keys will always be treated as labels (consistent with DataFrame behavior). To access a value by position, use `ser.iloc[pos]`\n",
      "  market_price_per_share = stock.adj_close[-1]\n"
     ]
    },
    {
     "name": "stdout",
     "output_type": "stream",
     "text": [
      "Processing T... Success in 8.06 sec\n",
      "Processing VZ... Success in 8.06 sec\n",
      "Processing PLD... Success in 6.89 sec\n",
      "Processing O... Success in 7.20 sec\n"
     ]
    },
    {
     "name": "stderr",
     "output_type": "stream",
     "text": [
      "/Users/adene/Documents/School/Carroll_2024-25/SeniorProject-PortfolioManagement/src/ratios.py:136: FutureWarning: Series.__getitem__ treating keys as positions is deprecated. In a future version, integer keys will always be treated as labels (consistent with DataFrame behavior). To access a value by position, use `ser.iloc[pos]`\n",
      "  market_price_per_share = stock.adj_close[-1]\n",
      "/Users/adene/Documents/School/Carroll_2024-25/SeniorProject-PortfolioManagement/src/ratios.py:136: FutureWarning: Series.__getitem__ treating keys as positions is deprecated. In a future version, integer keys will always be treated as labels (consistent with DataFrame behavior). To access a value by position, use `ser.iloc[pos]`\n",
      "  market_price_per_share = stock.adj_close[-1]\n"
     ]
    },
    {
     "name": "stdout",
     "output_type": "stream",
     "text": [
      "Processing SPG... Success in 6.64 sec\n",
      "Processing AMT... Success in 6.59 sec\n"
     ]
    }
   ],
   "source": [
    "import pandas as pd\n",
    "from ratios import process_tickers\n",
    "from setup import stocks\n",
    "\n",
    "# If df_results.csv has not yet been made, otherwise, you can skip this step\n",
    "results, error_tickers = process_tickers(pd.DataFrame(stocks))\n",
    "df_results = pd.DataFrame(results)"
   ]
  },
  {
   "cell_type": "code",
   "execution_count": null,
   "metadata": {},
   "outputs": [
    {
     "name": "stdout",
     "output_type": "stream",
     "text": [
      "df_encoded ready: shape (46, 96)\n",
      "PCA complete: projected data shape (46, 2)\n"
     ]
    },
    {
     "data": {
      "image/png": "[encoded data removed]",
      "text/plain": [
       "<Figure size 640x480 with 1 Axes>"
      ]
     },
     "metadata": {},
     "output_type": "display_data"
    }
   ],
   "source": [
    "import pandas as pd\n",
    "import setup\n",
    "\n",
    "df_results = pd.read_csv(\"df_results.csv\")\n",
    "\n",
    "# If the risk column has not yet been created, create it.\n",
    "if \"risk\" not in df_results.columns:\n",
    "    df_results[\"risk\"] = setup.compute_risk(df_results)\n",
    "    df_results.to_csv(\"df_results.csv\", index=False)\n",
    "\n",
    "# Remove stocks with insufficient historical data for backtesting\n",
    "df_results = df_results[~df_results[\"ticker\"].isin([\"DOW\", \"MRNA\", \"ABBV\", \"TSLA\"])]\n",
    "\n",
    "df_results = setup.compute_composite_metrics(df_results)\n",
    "df_encoded = setup.setup_data(df_results)\n",
    "\n",
    "pca_cols = [\"profitability\", \"liquidity\", \"efficiency\", \"market_value\", \"leverage\"]\n",
    "projectedData, pca_model = setup.perform_pca(df_encoded, columns=pca_cols, n_components=2)\n",
    "\n",
    "# df_results[pca_cols]\n",
    "df_results = setup.compute_clusters(df_results, df_results[pca_cols], method=\"dendrogram\", n_clusters=5)"
   ]
  },
  {
   "cell_type": "code",
   "execution_count": 5,
   "metadata": {},
   "outputs": [
    {
     "data": {
      "text/html": [
       "<div>\n",
       "<style scoped>\n",
       "    .dataframe tbody tr th:only-of-type {\n",
       "        vertical-align: middle;\n",
       "    }\n",
       "\n",
       "    .dataframe tbody tr th {\n",
       "        vertical-align: top;\n",
       "    }\n",
       "\n",
       "    .dataframe thead th {\n",
       "        text-align: right;\n",
       "    }\n",
       "</style>\n",
       "<table border=\"1\" class=\"dataframe\">\n",
       "  <thead>\n",
       "    <tr style=\"text-align: right;\">\n",
       "      <th></th>\n",
       "      <th>ticker</th>\n",
       "      <th>profitability</th>\n",
       "      <th>liquidity</th>\n",
       "      <th>efficiency</th>\n",
       "      <th>market_value</th>\n",
       "      <th>leverage</th>\n",
       "    </tr>\n",
       "  </thead>\n",
       "  <tbody>\n",
       "    <tr>\n",
       "      <th>0</th>\n",
       "      <td>AAPL</td>\n",
       "      <td>1.976935</td>\n",
       "      <td>-0.341527</td>\n",
       "      <td>2.105240</td>\n",
       "      <td>2.197644</td>\n",
       "      <td>1.027773</td>\n",
       "    </tr>\n",
       "    <tr>\n",
       "      <th>1</th>\n",
       "      <td>MSFT</td>\n",
       "      <td>1.883232</td>\n",
       "      <td>1.201107</td>\n",
       "      <td>0.143427</td>\n",
       "      <td>1.331835</td>\n",
       "      <td>0.390123</td>\n",
       "    </tr>\n",
       "    <tr>\n",
       "      <th>2</th>\n",
       "      <td>NVDA</td>\n",
       "      <td>0.529821</td>\n",
       "      <td>3.749290</td>\n",
       "      <td>-0.102903</td>\n",
       "      <td>7.434488</td>\n",
       "      <td>-0.568840</td>\n",
       "    </tr>\n",
       "    <tr>\n",
       "      <th>3</th>\n",
       "      <td>PFE</td>\n",
       "      <td>-0.532759</td>\n",
       "      <td>-0.893948</td>\n",
       "      <td>-0.813460</td>\n",
       "      <td>-1.553356</td>\n",
       "      <td>-0.578217</td>\n",
       "    </tr>\n",
       "    <tr>\n",
       "      <th>4</th>\n",
       "      <td>UNH</td>\n",
       "      <td>-0.652391</td>\n",
       "      <td>-0.383369</td>\n",
       "      <td>2.147648</td>\n",
       "      <td>0.547571</td>\n",
       "      <td>-0.213943</td>\n",
       "    </tr>\n",
       "    <tr>\n",
       "      <th>5</th>\n",
       "      <td>INTC</td>\n",
       "      <td>-0.937750</td>\n",
       "      <td>0.346536</td>\n",
       "      <td>-0.264063</td>\n",
       "      <td>-0.242634</td>\n",
       "      <td>-1.114061</td>\n",
       "    </tr>\n",
       "    <tr>\n",
       "      <th>6</th>\n",
       "      <td>JNJ</td>\n",
       "      <td>2.383433</td>\n",
       "      <td>0.244495</td>\n",
       "      <td>-0.384705</td>\n",
       "      <td>-0.212934</td>\n",
       "      <td>-0.079918</td>\n",
       "    </tr>\n",
       "    <tr>\n",
       "      <th>7</th>\n",
       "      <td>JPM</td>\n",
       "      <td>0.254943</td>\n",
       "      <td>0.073435</td>\n",
       "      <td>-0.997512</td>\n",
       "      <td>0.280667</td>\n",
       "      <td>1.288062</td>\n",
       "    </tr>\n",
       "    <tr>\n",
       "      <th>8</th>\n",
       "      <td>IBM</td>\n",
       "      <td>0.075856</td>\n",
       "      <td>-0.050418</td>\n",
       "      <td>0.276364</td>\n",
       "      <td>0.197164</td>\n",
       "      <td>0.419458</td>\n",
       "    </tr>\n",
       "    <tr>\n",
       "      <th>9</th>\n",
       "      <td>BAC</td>\n",
       "      <td>0.034755</td>\n",
       "      <td>0.073435</td>\n",
       "      <td>-1.012862</td>\n",
       "      <td>-0.215693</td>\n",
       "      <td>1.207879</td>\n",
       "    </tr>\n",
       "    <tr>\n",
       "      <th>10</th>\n",
       "      <td>GS</td>\n",
       "      <td>-0.285139</td>\n",
       "      <td>0.073435</td>\n",
       "      <td>-1.072507</td>\n",
       "      <td>0.169913</td>\n",
       "      <td>1.472089</td>\n",
       "    </tr>\n",
       "    <tr>\n",
       "      <th>11</th>\n",
       "      <td>C</td>\n",
       "      <td>-0.524819</td>\n",
       "      <td>0.073435</td>\n",
       "      <td>-1.005378</td>\n",
       "      <td>-0.683356</td>\n",
       "      <td>1.279963</td>\n",
       "    </tr>\n",
       "    <tr>\n",
       "      <th>12</th>\n",
       "      <td>WFC</td>\n",
       "      <td>-0.082034</td>\n",
       "      <td>0.073435</td>\n",
       "      <td>-0.916762</td>\n",
       "      <td>0.000825</td>\n",
       "      <td>1.159608</td>\n",
       "    </tr>\n",
       "    <tr>\n",
       "      <th>13</th>\n",
       "      <td>MCD</td>\n",
       "      <td>0.895990</td>\n",
       "      <td>0.822104</td>\n",
       "      <td>5.599896</td>\n",
       "      <td>-0.592022</td>\n",
       "      <td>-0.007050</td>\n",
       "    </tr>\n",
       "    <tr>\n",
       "      <th>14</th>\n",
       "      <td>HD</td>\n",
       "      <td>2.704414</td>\n",
       "      <td>-0.728640</td>\n",
       "      <td>4.975361</td>\n",
       "      <td>4.169235</td>\n",
       "      <td>3.635638</td>\n",
       "    </tr>\n",
       "    <tr>\n",
       "      <th>15</th>\n",
       "      <td>AMZN</td>\n",
       "      <td>-1.027586</td>\n",
       "      <td>0.046503</td>\n",
       "      <td>1.286679</td>\n",
       "      <td>0.489574</td>\n",
       "      <td>-0.213603</td>\n",
       "    </tr>\n",
       "    <tr>\n",
       "      <th>16</th>\n",
       "      <td>NKE</td>\n",
       "      <td>0.248291</td>\n",
       "      <td>2.845815</td>\n",
       "      <td>1.363057</td>\n",
       "      <td>0.283889</td>\n",
       "      <td>-0.112999</td>\n",
       "    </tr>\n",
       "    <tr>\n",
       "      <th>17</th>\n",
       "      <td>PG</td>\n",
       "      <td>0.519525</td>\n",
       "      <td>-1.021882</td>\n",
       "      <td>0.548530</td>\n",
       "      <td>0.359631</td>\n",
       "      <td>0.124908</td>\n",
       "    </tr>\n",
       "    <tr>\n",
       "      <th>18</th>\n",
       "      <td>KO</td>\n",
       "      <td>0.914080</td>\n",
       "      <td>0.120054</td>\n",
       "      <td>0.024675</td>\n",
       "      <td>0.177731</td>\n",
       "      <td>0.041930</td>\n",
       "    </tr>\n",
       "    <tr>\n",
       "      <th>19</th>\n",
       "      <td>WMT</td>\n",
       "      <td>-1.038601</td>\n",
       "      <td>-1.331439</td>\n",
       "      <td>6.986465</td>\n",
       "      <td>1.381063</td>\n",
       "      <td>-0.190778</td>\n",
       "    </tr>\n",
       "    <tr>\n",
       "      <th>20</th>\n",
       "      <td>COST</td>\n",
       "      <td>-0.973092</td>\n",
       "      <td>-0.243870</td>\n",
       "      <td>10.529112</td>\n",
       "      <td>1.848774</td>\n",
       "      <td>1.040724</td>\n",
       "    </tr>\n",
       "    <tr>\n",
       "      <th>21</th>\n",
       "      <td>PEP</td>\n",
       "      <td>0.229978</td>\n",
       "      <td>-0.495647</td>\n",
       "      <td>0.722741</td>\n",
       "      <td>-0.131641</td>\n",
       "      <td>0.577721</td>\n",
       "    </tr>\n",
       "    <tr>\n",
       "      <th>22</th>\n",
       "      <td>XOM</td>\n",
       "      <td>-0.405952</td>\n",
       "      <td>0.671934</td>\n",
       "      <td>0.744461</td>\n",
       "      <td>-0.433528</td>\n",
       "      <td>0.685077</td>\n",
       "    </tr>\n",
       "    <tr>\n",
       "      <th>23</th>\n",
       "      <td>CVX</td>\n",
       "      <td>-0.383458</td>\n",
       "      <td>0.021070</td>\n",
       "      <td>0.667967</td>\n",
       "      <td>-0.945164</td>\n",
       "      <td>0.550000</td>\n",
       "    </tr>\n",
       "    <tr>\n",
       "      <th>24</th>\n",
       "      <td>SLB</td>\n",
       "      <td>-0.494209</td>\n",
       "      <td>-0.021070</td>\n",
       "      <td>-0.040693</td>\n",
       "      <td>-0.000825</td>\n",
       "      <td>-0.444588</td>\n",
       "    </tr>\n",
       "    <tr>\n",
       "      <th>25</th>\n",
       "      <td>EOG</td>\n",
       "      <td>2.006046</td>\n",
       "      <td>3.804285</td>\n",
       "      <td>-0.151084</td>\n",
       "      <td>-1.341394</td>\n",
       "      <td>0.555623</td>\n",
       "    </tr>\n",
       "    <tr>\n",
       "      <th>26</th>\n",
       "      <td>OXY</td>\n",
       "      <td>-0.181756</td>\n",
       "      <td>-0.711237</td>\n",
       "      <td>-0.291517</td>\n",
       "      <td>-0.412993</td>\n",
       "      <td>-0.445722</td>\n",
       "    </tr>\n",
       "    <tr>\n",
       "      <th>27</th>\n",
       "      <td>CAT</td>\n",
       "      <td>0.189785</td>\n",
       "      <td>-0.134138</td>\n",
       "      <td>-0.084858</td>\n",
       "      <td>0.569456</td>\n",
       "      <td>0.747440</td>\n",
       "    </tr>\n",
       "    <tr>\n",
       "      <th>28</th>\n",
       "      <td>BA</td>\n",
       "      <td>-1.913395</td>\n",
       "      <td>-0.925440</td>\n",
       "      <td>0.974878</td>\n",
       "      <td>-0.698096</td>\n",
       "      <td>0.125008</td>\n",
       "    </tr>\n",
       "    <tr>\n",
       "      <th>29</th>\n",
       "      <td>DE</td>\n",
       "      <td>0.146498</td>\n",
       "      <td>1.097295</td>\n",
       "      <td>-0.056206</td>\n",
       "      <td>0.734545</td>\n",
       "      <td>0.216655</td>\n",
       "    </tr>\n",
       "    <tr>\n",
       "      <th>30</th>\n",
       "      <td>HON</td>\n",
       "      <td>0.038102</td>\n",
       "      <td>0.266632</td>\n",
       "      <td>-0.252138</td>\n",
       "      <td>0.372912</td>\n",
       "      <td>0.115011</td>\n",
       "    </tr>\n",
       "    <tr>\n",
       "      <th>31</th>\n",
       "      <td>DUK</td>\n",
       "      <td>-0.494520</td>\n",
       "      <td>-1.285292</td>\n",
       "      <td>-0.847558</td>\n",
       "      <td>-0.470966</td>\n",
       "      <td>-0.172677</td>\n",
       "    </tr>\n",
       "    <tr>\n",
       "      <th>32</th>\n",
       "      <td>SO</td>\n",
       "      <td>-0.211997</td>\n",
       "      <td>-1.152021</td>\n",
       "      <td>-0.498530</td>\n",
       "      <td>-0.250867</td>\n",
       "      <td>-0.033430</td>\n",
       "    </tr>\n",
       "    <tr>\n",
       "      <th>33</th>\n",
       "      <td>AEP</td>\n",
       "      <td>-0.139997</td>\n",
       "      <td>-1.537559</td>\n",
       "      <td>-0.162204</td>\n",
       "      <td>-0.304612</td>\n",
       "      <td>-0.105447</td>\n",
       "    </tr>\n",
       "    <tr>\n",
       "      <th>34</th>\n",
       "      <td>EXC</td>\n",
       "      <td>-0.544085</td>\n",
       "      <td>-0.951921</td>\n",
       "      <td>-0.213241</td>\n",
       "      <td>-0.404474</td>\n",
       "      <td>-0.063280</td>\n",
       "    </tr>\n",
       "    <tr>\n",
       "      <th>35</th>\n",
       "      <td>FCX</td>\n",
       "      <td>-0.761167</td>\n",
       "      <td>2.253566</td>\n",
       "      <td>0.188879</td>\n",
       "      <td>0.580968</td>\n",
       "      <td>-0.604624</td>\n",
       "    </tr>\n",
       "    <tr>\n",
       "      <th>36</th>\n",
       "      <td>LIN</td>\n",
       "      <td>0.213087</td>\n",
       "      <td>-0.564350</td>\n",
       "      <td>-0.289259</td>\n",
       "      <td>0.907770</td>\n",
       "      <td>-0.384368</td>\n",
       "    </tr>\n",
       "    <tr>\n",
       "      <th>37</th>\n",
       "      <td>NEM</td>\n",
       "      <td>-2.453459</td>\n",
       "      <td>0.278738</td>\n",
       "      <td>0.064561</td>\n",
       "      <td>-0.436844</td>\n",
       "      <td>-1.239843</td>\n",
       "    </tr>\n",
       "    <tr>\n",
       "      <th>38</th>\n",
       "      <td>NFLX</td>\n",
       "      <td>0.244175</td>\n",
       "      <td>0.862223</td>\n",
       "      <td>1.661973</td>\n",
       "      <td>0.741361</td>\n",
       "      <td>-0.442044</td>\n",
       "    </tr>\n",
       "    <tr>\n",
       "      <th>39</th>\n",
       "      <td>DIS</td>\n",
       "      <td>-1.076664</td>\n",
       "      <td>0.200969</td>\n",
       "      <td>0.576935</td>\n",
       "      <td>1.767278</td>\n",
       "      <td>-0.991694</td>\n",
       "    </tr>\n",
       "    <tr>\n",
       "      <th>40</th>\n",
       "      <td>VZ</td>\n",
       "      <td>-0.176751</td>\n",
       "      <td>-1.132726</td>\n",
       "      <td>0.042060</td>\n",
       "      <td>-1.862487</td>\n",
       "      <td>0.007050</td>\n",
       "    </tr>\n",
       "    <tr>\n",
       "      <th>41</th>\n",
       "      <td>T</td>\n",
       "      <td>-0.034755</td>\n",
       "      <td>-0.932119</td>\n",
       "      <td>0.104767</td>\n",
       "      <td>-0.972575</td>\n",
       "      <td>-0.145913</td>\n",
       "    </tr>\n",
       "    <tr>\n",
       "      <th>42</th>\n",
       "      <td>O</td>\n",
       "      <td>0.850861</td>\n",
       "      <td>0.433541</td>\n",
       "      <td>-0.809250</td>\n",
       "      <td>-0.604462</td>\n",
       "      <td>-1.103435</td>\n",
       "    </tr>\n",
       "    <tr>\n",
       "      <th>43</th>\n",
       "      <td>PLD</td>\n",
       "      <td>1.185364</td>\n",
       "      <td>-0.745696</td>\n",
       "      <td>0.291116</td>\n",
       "      <td>-0.009963</td>\n",
       "      <td>-1.116046</td>\n",
       "    </tr>\n",
       "    <tr>\n",
       "      <th>44</th>\n",
       "      <td>AMT</td>\n",
       "      <td>0.372449</td>\n",
       "      <td>-0.624945</td>\n",
       "      <td>-0.024675</td>\n",
       "      <td>0.467022</td>\n",
       "      <td>0.841034</td>\n",
       "    </tr>\n",
       "    <tr>\n",
       "      <th>45</th>\n",
       "      <td>SPG</td>\n",
       "      <td>1.797402</td>\n",
       "      <td>-0.046076</td>\n",
       "      <td>-0.481763</td>\n",
       "      <td>-0.728468</td>\n",
       "      <td>0.858057</td>\n",
       "    </tr>\n",
       "  </tbody>\n",
       "</table>\n",
       "</div>"
      ],
      "text/plain": [
       "   ticker  profitability  liquidity  efficiency  market_value  leverage\n",
       "0    AAPL       1.976935  -0.341527    2.105240      2.197644  1.027773\n",
       "1    MSFT       1.883232   1.201107    0.143427      1.331835  0.390123\n",
       "2    NVDA       0.529821   3.749290   -0.102903      7.434488 -0.568840\n",
       "3     PFE      -0.532759  -0.893948   -0.813460     -1.553356 -0.578217\n",
       "4     UNH      -0.652391  -0.383369    2.147648      0.547571 -0.213943\n",
       "5    INTC      -0.937750   0.346536   -0.264063     -0.242634 -1.114061\n",
       "6     JNJ       2.383433   0.244495   -0.384705     -0.212934 -0.079918\n",
       "7     JPM       0.254943   0.073435   -0.997512      0.280667  1.288062\n",
       "8     IBM       0.075856  -0.050418    0.276364      0.197164  0.419458\n",
       "9     BAC       0.034755   0.073435   -1.012862     -0.215693  1.207879\n",
       "10     GS      -0.285139   0.073435   -1.072507      0.169913  1.472089\n",
       "11      C      -0.524819   0.073435   -1.005378     -0.683356  1.279963\n",
       "12    WFC      -0.082034   0.073435   -0.916762      0.000825  1.159608\n",
       "13    MCD       0.895990   0.822104    5.599896     -0.592022 -0.007050\n",
       "14     HD       2.704414  -0.728640    4.975361      4.169235  3.635638\n",
       "15   AMZN      -1.027586   0.046503    1.286679      0.489574 -0.213603\n",
       "16    NKE       0.248291   2.845815    1.363057      0.283889 -0.112999\n",
       "17     PG       0.519525  -1.021882    0.548530      0.359631  0.124908\n",
       "18     KO       0.914080   0.120054    0.024675      0.177731  0.041930\n",
       "19    WMT      -1.038601  -1.331439    6.986465      1.381063 -0.190778\n",
       "20   COST      -0.973092  -0.243870   10.529112      1.848774  1.040724\n",
       "21    PEP       0.229978  -0.495647    0.722741     -0.131641  0.577721\n",
       "22    XOM      -0.405952   0.671934    0.744461     -0.433528  0.685077\n",
       "23    CVX      -0.383458   0.021070    0.667967     -0.945164  0.550000\n",
       "24    SLB      -0.494209  -0.021070   -0.040693     -0.000825 -0.444588\n",
       "25    EOG       2.006046   3.804285   -0.151084     -1.341394  0.555623\n",
       "26    OXY      -0.181756  -0.711237   -0.291517     -0.412993 -0.445722\n",
       "27    CAT       0.189785  -0.134138   -0.084858      0.569456  0.747440\n",
       "28     BA      -1.913395  -0.925440    0.974878     -0.698096  0.125008\n",
       "29     DE       0.146498   1.097295   -0.056206      0.734545  0.216655\n",
       "30    HON       0.038102   0.266632   -0.252138      0.372912  0.115011\n",
       "31    DUK      -0.494520  -1.285292   -0.847558     -0.470966 -0.172677\n",
       "32     SO      -0.211997  -1.152021   -0.498530     -0.250867 -0.033430\n",
       "33    AEP      -0.139997  -1.537559   -0.162204     -0.304612 -0.105447\n",
       "34    EXC      -0.544085  -0.951921   -0.213241     -0.404474 -0.063280\n",
       "35    FCX      -0.761167   2.253566    0.188879      0.580968 -0.604624\n",
       "36    LIN       0.213087  -0.564350   -0.289259      0.907770 -0.384368\n",
       "37    NEM      -2.453459   0.278738    0.064561     -0.436844 -1.239843\n",
       "38   NFLX       0.244175   0.862223    1.661973      0.741361 -0.442044\n",
       "39    DIS      -1.076664   0.200969    0.576935      1.767278 -0.991694\n",
       "40     VZ      -0.176751  -1.132726    0.042060     -1.862487  0.007050\n",
       "41      T      -0.034755  -0.932119    0.104767     -0.972575 -0.145913\n",
       "42      O       0.850861   0.433541   -0.809250     -0.604462 -1.103435\n",
       "43    PLD       1.185364  -0.745696    0.291116     -0.009963 -1.116046\n",
       "44    AMT       0.372449  -0.624945   -0.024675      0.467022  0.841034\n",
       "45    SPG       1.797402  -0.046076   -0.481763     -0.728468  0.858057"
      ]
     },
     "execution_count": 5,
     "metadata": {},
     "output_type": "execute_result"
    }
   ],
   "source": [
    "df_results[[\"ticker\"] + pca_cols]"
   ]
  },
  {
   "cell_type": "code",
   "execution_count": 12,
   "metadata": {},
   "outputs": [
    {
     "data": {
      "image/png": "[encoded data removed]",
      "text/plain": [
       "<Figure size 1000x600 with 1 Axes>"
      ]
     },
     "metadata": {},
     "output_type": "display_data"
    }
   ],
   "source": [
    "import pandas as pd\n",
    "import seaborn as sns\n",
    "import matplotlib.pyplot as plt\n",
    "\n",
    "# Calculate average PCA component values per cluster\n",
    "cluster_means = df_results.groupby('cluster')[pca_cols].mean().round(2)\n",
    "\n",
    "# Reshape for plotting\n",
    "df_melted = cluster_means.reset_index().melt(id_vars='cluster', var_name='component', value_name='mean_value')\n",
    "\n",
    "# Plot\n",
    "plt.figure(figsize=(10, 6))\n",
    "sns.barplot(data=df_melted, x='component', y='mean_value', hue='cluster', palette='Set2')\n",
    "plt.title('Average Composite Financial Metric Values by Cluster')\n",
    "plt.ylabel('Mean Value')\n",
    "plt.xticks(rotation=45)\n",
    "plt.legend(title='Cluster')\n",
    "plt.tight_layout()\n",
    "plt.show()"
   ]
  },
  {
   "cell_type": "code",
   "execution_count": 10,
   "metadata": {},
   "outputs": [
    {
     "data": {
      "text/plain": [
       "0     AAPL\n",
       "14      HD\n",
       "Name: ticker, dtype: object"
      ]
     },
     "execution_count": 10,
     "metadata": {},
     "output_type": "execute_result"
    }
   ],
   "source": [
    "df_results[df_results[\"cluster\"] == 4][\"ticker\"]"
   ]
  },
  {
   "cell_type": "code",
   "execution_count": 62,
   "metadata": {},
   "outputs": [
    {
     "data": {
      "text/plain": [
       "cluster\n",
       "1    28\n",
       "2    12\n",
       "3     3\n",
       "4     2\n",
       "5     1\n",
       "Name: count, dtype: int64"
      ]
     },
     "execution_count": 62,
     "metadata": {},
     "output_type": "execute_result"
    }
   ],
   "source": [
    "df_results[\"cluster\"].value_counts()"
   ]
  },
  {
   "cell_type": "code",
   "execution_count": 2,
   "metadata": {},
   "outputs": [
    {
     "data": {
      "text/html": [
       "<div>\n",
       "<style scoped>\n",
       "    .dataframe tbody tr th:only-of-type {\n",
       "        vertical-align: middle;\n",
       "    }\n",
       "\n",
       "    .dataframe tbody tr th {\n",
       "        vertical-align: top;\n",
       "    }\n",
       "\n",
       "    .dataframe thead th {\n",
       "        text-align: right;\n",
       "    }\n",
       "</style>\n",
       "<table border=\"1\" class=\"dataframe\">\n",
       "  <thead>\n",
       "    <tr style=\"text-align: right;\">\n",
       "      <th></th>\n",
       "      <th>ticker</th>\n",
       "      <th>profitability</th>\n",
       "      <th>liquidity</th>\n",
       "      <th>efficiency</th>\n",
       "      <th>market_value</th>\n",
       "      <th>leverage</th>\n",
       "    </tr>\n",
       "  </thead>\n",
       "  <tbody>\n",
       "    <tr>\n",
       "      <th>0</th>\n",
       "      <td>AAPL</td>\n",
       "      <td>1.976935</td>\n",
       "      <td>-0.341527</td>\n",
       "      <td>2.105240</td>\n",
       "      <td>2.197644</td>\n",
       "      <td>1.027773</td>\n",
       "    </tr>\n",
       "    <tr>\n",
       "      <th>1</th>\n",
       "      <td>MSFT</td>\n",
       "      <td>1.883232</td>\n",
       "      <td>1.201107</td>\n",
       "      <td>0.143427</td>\n",
       "      <td>1.331835</td>\n",
       "      <td>0.390123</td>\n",
       "    </tr>\n",
       "  </tbody>\n",
       "</table>\n",
       "</div>"
      ],
      "text/plain": [
       "  ticker  profitability  liquidity  efficiency  market_value  leverage\n",
       "0   AAPL       1.976935  -0.341527    2.105240      2.197644  1.027773\n",
       "1   MSFT       1.883232   1.201107    0.143427      1.331835  0.390123"
      ]
     },
     "execution_count": 2,
     "metadata": {},
     "output_type": "execute_result"
    }
   ],
   "source": [
    "df_results = setup.compute_clusters(df_results, projectedData, method=\"kmeans\", n_clusters=3)\n",
    "\n",
    "df_results[df_results[\"ticker\"].isin([\"AAPL\", \"MSFT\"])][[\"ticker\"] + pca_cols]"
   ]
  },
  {
   "cell_type": "code",
   "execution_count": 59,
   "metadata": {},
   "outputs": [],
   "source": [
    "from sklearn.cluster import KMeans\n",
    "\n",
    "df_PCA = pd.DataFrame(projectedData, columns=['prin_comp_1','prin_comp_2'])\n",
    "model = KMeans(n_clusters = 5, random_state=42)\n",
    "cluster_labels = model.fit_predict(df_PCA)\n",
    "\n",
    "# Assign cluster labels\n",
    "# df_results['cluster'] = cluster_labels\n",
    "df_PCA['cluster'] = cluster_labels\n",
    "df_PCA['cluster'] = df_PCA['cluster'].astype(str)\n",
    "df_PCA['ticker'] = df_results['ticker']"
   ]
  },
  {
   "cell_type": "code",
   "execution_count": 60,
   "metadata": {},
   "outputs": [
    {
     "data": {
      "image/png": "[encoded data removed]",
      "text/plain": [
       "<Figure size 640x480 with 1 Axes>"
      ]
     },
     "metadata": {},
     "output_type": "display_data"
    }
   ],
   "source": [
    "import seaborn as sns\n",
    "import matplotlib.pyplot as plt\n",
    "\n",
    "sns.scatterplot(data=df_PCA, x='prin_comp_1', y='prin_comp_2', hue='cluster')\n",
    "\n",
    "# Add labels to each point\n",
    "for i, row in df_PCA.iterrows():\n",
    "    plt.text(row['prin_comp_1'] + 0.02,  # small offset to avoid overlap\n",
    "             row['prin_comp_2'] + 0.02,\n",
    "             str(row['ticker']),   # replace with your actual label column\n",
    "             fontsize=9)\n",
    "\n",
    "plt.show()"
   ]
  },
  {
   "cell_type": "markdown",
   "metadata": {},
   "source": [
    "### Check Earliest Stock Dates"
   ]
  },
  {
   "cell_type": "code",
   "execution_count": null,
   "metadata": {},
   "outputs": [
    {
     "name": "stderr",
     "output_type": "stream",
     "text": [
      "100%|██████████| 46/46 [01:32<00:00,  2.01s/it]\n"
     ]
    }
   ],
   "source": [
    "import okama as ok\n",
    "from tqdm import tqdm\n",
    "\n",
    "all_assets = ok.AssetList([ticker + \".US\" for ticker in df_results[\"ticker\"]])\n",
    "\n",
    "earliest = {}\n",
    "for ticker in all_assets:\n",
    "    earliest[ticker] = ticker.first_date"
   ]
  },
  {
   "cell_type": "code",
   "execution_count": 8,
   "metadata": {},
   "outputs": [],
   "source": [
    "df_results[\"earliest\"] = df_results[\"ticker\"].map(earliest)"
   ]
  },
  {
   "cell_type": "code",
   "execution_count": 35,
   "metadata": {},
   "outputs": [
    {
     "data": {
      "text/html": [
       "<div>\n",
       "<style scoped>\n",
       "    .dataframe tbody tr th:only-of-type {\n",
       "        vertical-align: middle;\n",
       "    }\n",
       "\n",
       "    .dataframe tbody tr th {\n",
       "        vertical-align: top;\n",
       "    }\n",
       "\n",
       "    .dataframe thead th {\n",
       "        text-align: right;\n",
       "    }\n",
       "</style>\n",
       "<table border=\"1\" class=\"dataframe\">\n",
       "  <thead>\n",
       "    <tr style=\"text-align: right;\">\n",
       "      <th></th>\n",
       "      <th>ticker</th>\n",
       "      <th>earliest</th>\n",
       "    </tr>\n",
       "  </thead>\n",
       "  <tbody>\n",
       "    <tr>\n",
       "      <th>37</th>\n",
       "      <td>DOW</td>\n",
       "      <td>2019-04-01</td>\n",
       "    </tr>\n",
       "    <tr>\n",
       "      <th>2</th>\n",
       "      <td>MRNA</td>\n",
       "      <td>2019-01-01</td>\n",
       "    </tr>\n",
       "    <tr>\n",
       "      <th>1</th>\n",
       "      <td>ABBV</td>\n",
       "      <td>2013-01-01</td>\n",
       "    </tr>\n",
       "    <tr>\n",
       "      <th>16</th>\n",
       "      <td>TSLA</td>\n",
       "      <td>2010-07-01</td>\n",
       "    </tr>\n",
       "    <tr>\n",
       "      <th>42</th>\n",
       "      <td>NFLX</td>\n",
       "      <td>2002-06-01</td>\n",
       "    </tr>\n",
       "  </tbody>\n",
       "</table>\n",
       "</div>"
      ],
      "text/plain": [
       "   ticker   earliest\n",
       "37    DOW 2019-04-01\n",
       "2    MRNA 2019-01-01\n",
       "1    ABBV 2013-01-01\n",
       "16   TSLA 2010-07-01\n",
       "42   NFLX 2002-06-01"
      ]
     },
     "execution_count": 35,
     "metadata": {},
     "output_type": "execute_result"
    }
   ],
   "source": [
    "df_results.sort_values(by = \"earliest\", inplace = True, ascending = False)\n",
    "df_results[[\"ticker\", \"earliest\"]].head()"
   ]
  },
  {
   "cell_type": "markdown",
   "metadata": {},
   "source": [
    "### Check Historical Stock Volatility/Return"
   ]
  },
  {
   "cell_type": "code",
   "execution_count": 257,
   "metadata": {},
   "outputs": [],
   "source": [
    "import okama as ok\n",
    "all_assets = ok.AssetList([ticker + \".US\" for ticker in df_results[\"ticker\"]])"
   ]
  },
  {
   "cell_type": "code",
   "execution_count": 259,
   "metadata": {},
   "outputs": [],
   "source": [
    "pf = ok.Portfolio(\n",
    "    assets=all_assets,\n",
    "    weights=[1 / len(all_assets)] * len(all_assets),    \n",
    "    ccy='USD',\n",
    "    rebalancing_period='month',  # 'Q' for quarterly, 'A' for annual, etc.\n",
    "    first_date='2004-01',    # pick a reasonable start date (earliest is 2003-09 from initial assessment)\n",
    "    last_date='2024-02'       # pick an end date to evaluate\n",
    ")"
   ]
  },
  {
   "cell_type": "code",
   "execution_count": null,
   "metadata": {},
   "outputs": [],
   "source": [
    "pf.monte_carlo_returns_ts"
   ]
  },
  {
   "cell_type": "code",
   "execution_count": 9,
   "metadata": {},
   "outputs": [
    {
     "name": "stderr",
     "output_type": "stream",
     "text": [
      "/var/folders/rs/dqcm8rm967g9vzgwrpdplf080000gn/T/ipykernel_93025/365516123.py:8: FutureWarning: Series.__getitem__ treating keys as positions is deprecated. In a future version, integer keys will always be treated as labels (consistent with DataFrame behavior). To access a value by position, use `ser.iloc[pos]`\n",
      "  risks[asset.ticker] = rolling_risks[asset.ticker + \".US\"][0]\n"
     ]
    }
   ],
   "source": [
    "# Calculate the rolling annual risk for each asset\n",
    "rolling_risks = all_assets.get_rolling_risk_annual()\n",
    "\n",
    "risks = {}\n",
    "\n",
    "# Calculate the average rolling risk for each asset\n",
    "for asset in all_assets:\n",
    "    risks[asset.ticker] = rolling_risks[asset.ticker + \".US\"][0]\n",
    "\n",
    "# Map the calculated risks to the \"ticker\" column in df_results\n",
    "df_results[\"risk\"] = df_results[\"ticker\"].map(risks)"
   ]
  },
  {
   "cell_type": "code",
   "execution_count": null,
   "metadata": {},
   "outputs": [],
   "source": [
    "# # Write to CSV\n",
    "# df_results.to_csv(\"df_results.csv\", index=False)"
   ]
  },
  {
   "cell_type": "markdown",
   "metadata": {},
   "source": [
    "#### AMT and Risk Exploration Sidebar"
   ]
  },
  {
   "cell_type": "code",
   "execution_count": 52,
   "metadata": {},
   "outputs": [],
   "source": [
    "stock = ok.Asset(\"AMT.US\")"
   ]
  },
  {
   "cell_type": "code",
   "execution_count": null,
   "metadata": {},
   "outputs": [
    {
     "data": {
      "text/html": [
       "<div>\n",
       "<style scoped>\n",
       "    .dataframe tbody tr th:only-of-type {\n",
       "        vertical-align: middle;\n",
       "    }\n",
       "\n",
       "    .dataframe tbody tr th {\n",
       "        vertical-align: top;\n",
       "    }\n",
       "\n",
       "    .dataframe thead th {\n",
       "        text-align: right;\n",
       "    }\n",
       "</style>\n",
       "<table border=\"1\" class=\"dataframe\">\n",
       "  <thead>\n",
       "    <tr style=\"text-align: right;\">\n",
       "      <th></th>\n",
       "      <th>ticker</th>\n",
       "      <th>risk</th>\n",
       "    </tr>\n",
       "  </thead>\n",
       "  <tbody>\n",
       "    <tr>\n",
       "      <th>48</th>\n",
       "      <td>AMT</td>\n",
       "      <td>20.437652</td>\n",
       "    </tr>\n",
       "    <tr>\n",
       "      <th>4</th>\n",
       "      <td>NVDA</td>\n",
       "      <td>3.059320</td>\n",
       "    </tr>\n",
       "    <tr>\n",
       "      <th>18</th>\n",
       "      <td>AMZN</td>\n",
       "      <td>1.085627</td>\n",
       "    </tr>\n",
       "    <tr>\n",
       "      <th>42</th>\n",
       "      <td>NFLX</td>\n",
       "      <td>0.957420</td>\n",
       "    </tr>\n",
       "    <tr>\n",
       "      <th>9</th>\n",
       "      <td>JPM</td>\n",
       "      <td>0.678396</td>\n",
       "    </tr>\n",
       "  </tbody>\n",
       "</table>\n",
       "</div>"
      ],
      "text/plain": [
       "   ticker       risk\n",
       "48    AMT  20.437652\n",
       "4    NVDA   3.059320\n",
       "18   AMZN   1.085627\n",
       "42   NFLX   0.957420\n",
       "9     JPM   0.678396"
      ]
     },
     "execution_count": 43,
     "metadata": {},
     "output_type": "execute_result"
    }
   ],
   "source": [
    "# Explore this weird result\n",
    "df_results.sort_values(by = \"risk\", inplace = True, ascending = False)\n",
    "df_results[[\"ticker\", \"risk\"]].head()"
   ]
  },
  {
   "cell_type": "code",
   "execution_count": null,
   "metadata": {},
   "outputs": [
    {
     "data": {
      "text/plain": [
       "[(0.0, 1.5)]"
      ]
     },
     "execution_count": 63,
     "metadata": {},
     "output_type": "execute_result"
    },
    {
     "data": {
      "image/png": "[encoded data removed]",
      "text/plain": [
       "<Figure size 640x480 with 1 Axes>"
      ]
     },
     "metadata": {},
     "output_type": "display_data"
    }
   ],
   "source": [
    "import seaborn as sns\n",
    "\n",
    "sns.histplot(df_results[\"risk\"]).set(xlim=(0, 1.5))"
   ]
  },
  {
   "cell_type": "code",
   "execution_count": 64,
   "metadata": {},
   "outputs": [
    {
     "data": {
      "text/plain": [
       "<Axes: xlabel='risk', ylabel='Count'>"
      ]
     },
     "execution_count": 64,
     "metadata": {},
     "output_type": "execute_result"
    },
    {
     "data": {
      "image/png": "[encoded data removed]",
      "text/plain": [
       "<Figure size 640x480 with 1 Axes>"
      ]
     },
     "metadata": {},
     "output_type": "display_data"
    }
   ],
   "source": [
    "sns.histplot(df_results[\"risk\"])"
   ]
  },
  {
   "cell_type": "markdown",
   "metadata": {},
   "source": [
    "##"
   ]
  },
  {
   "cell_type": "markdown",
   "metadata": {},
   "source": [
    "## Evaluate Models "
   ]
  },
  {
   "cell_type": "markdown",
   "metadata": {},
   "source": [
    "### Setup Portfolio and Evaluation Function"
   ]
  },
  {
   "cell_type": "code",
   "execution_count": null,
   "metadata": {},
   "outputs": [],
   "source": [
    "# DONT USE THIS, IT DOES NOT WORK\n",
    "def update_weights(tickers, pf):\n",
    "    tickers_with_ext = [f\"{ticker}.US\" for ticker in tickers]\n",
    "    weight = 1/len(tickers)\n",
    "    for i, key in enumerate(pf.assets_weights.keys()):\n",
    "        pf.assets_weights[key] = 0\n",
    "        pf.weights[i] = 0\n",
    "        if key in tickers_with_ext:\n",
    "            pf.assets_weights[key] = weight   \n",
    "            pf.weights[i] = weight "
   ]
  },
  {
   "cell_type": "code",
   "execution_count": 6,
   "metadata": {},
   "outputs": [],
   "source": [
    "import pandas as pd\n",
    "\n",
    "def ticker_policy(df_results, policy=\"Industry\", sample_size=15, random_state=42):\n",
    "    match policy:\n",
    "        case \"Random\":\n",
    "            return df_results.sample(sample_size, random_state=random_state)[\"ticker\"]\n",
    "        \n",
    "        case \"Industry\":\n",
    "            # Standardize industry_grouped_portfolio\n",
    "            industry_counts = df_results['Industry'].value_counts()\n",
    "            selected_industries = industry_counts.sample(min(11, sample_size), random_state=random_state).index.tolist()\n",
    "            industry_grouped_portfolio = df_results[df_results['Industry'].isin(selected_industries)].groupby('Industry').apply(\n",
    "                lambda x: x.sample(1, random_state=random_state)\n",
    "            ).reset_index(drop=True)\n",
    "\n",
    "            # Add additional stocks from industries with more stocks\n",
    "            additional_industries = industry_counts[~industry_counts.index.isin(selected_industries)].sample(max(0, sample_size - 11), random_state=random_state).index.tolist()\n",
    "            additional_stocks = df_results[df_results['Industry'].isin(additional_industries)].groupby('Industry').apply(\n",
    "                lambda x: x.sample(1, random_state=random_state)\n",
    "            ).reset_index(drop=True)\n",
    "\n",
    "            industry_grouped_portfolio = pd.concat([industry_grouped_portfolio, additional_stocks]).reset_index(drop=True)\n",
    "            return industry_grouped_portfolio[\"ticker\"]\n",
    "        \n",
    "        case \"Base\":\n",
    "            # Standardize base_portfolio\n",
    "            base_portfolio = df_results.groupby('cluster').apply(\n",
    "                lambda x: x.sample(min(len(x), 3), random_state=random_state)\n",
    "            ).reset_index(drop=True)\n",
    "\n",
    "            # If fewer than sample_size stocks, sample additional stocks from other clusters\n",
    "            if len(base_portfolio) < sample_size:\n",
    "                additional_stocks = df_results[~df_results['ticker'].isin(base_portfolio['ticker'])].sample(\n",
    "                    sample_size - len(base_portfolio), random_state=random_state\n",
    "                )\n",
    "                base_portfolio = pd.concat([base_portfolio, additional_stocks]).reset_index(drop=True)\n",
    "\n",
    "            return base_portfolio[\"ticker\"]\n",
    "        \n",
    "        case \"Base-High\":\n",
    "            base_high = df_results.groupby('cluster').apply(\n",
    "                lambda x: x.nlargest(3, 'risk')\n",
    "            ).reset_index(drop=True)\n",
    "\n",
    "            if len(base_high) < sample_size:\n",
    "                additional_stocks = df_results[~df_results['ticker'].isin(base_high['ticker'])].nlargest(\n",
    "                    sample_size - len(base_high), 'risk'\n",
    "                )\n",
    "                base_high = pd.concat([base_high, additional_stocks]).reset_index(drop=True)\n",
    "\n",
    "            return base_high[\"ticker\"]\n",
    "\n",
    "        case \"Base-Low\":\n",
    "            base_low = df_results.groupby('cluster').apply(\n",
    "                lambda x: x.nsmallest(3, 'risk')\n",
    "            ).reset_index(drop=True)\n",
    "\n",
    "            if len(base_low) < sample_size:\n",
    "                additional_stocks = df_results[~df_results['ticker'].isin(base_low['ticker'])].nsmallest(\n",
    "                    sample_size - len(base_low), 'risk'\n",
    "                )\n",
    "                base_low = pd.concat([base_low, additional_stocks]).reset_index(drop=True)\n",
    "\n",
    "            return base_low[\"ticker\"]\n",
    "\n",
    "        \n",
    "        case \"LowRisk\":\n",
    "            # Standardize low-risk portfolio\n",
    "            low_risk_portfolio = df_results[df_results[\"risk\"] < df_results[\"risk\"].quantile(0.33)].sample(sample_size, random_state=random_state)\n",
    "            return low_risk_portfolio[\"ticker\"]\n",
    "        \n",
    "        case \"MediumRisk\":\n",
    "            # Standardize medium-risk portfolio\n",
    "            med_df = df_results[\n",
    "                (df_results[\"risk\"] >= df_results[\"risk\"].quantile(0.34)) & \n",
    "                (df_results[\"risk\"] < df_results[\"risk\"].quantile(0.66))\n",
    "            ]\n",
    "            med_risk_portfolio = med_df.sample(min(sample_size, len(med_df)), random_state=random_state)\n",
    "            return med_risk_portfolio[\"ticker\"]\n",
    "        \n",
    "        case \"HighRisk\":\n",
    "            # Standardize high-risk portfolio\n",
    "            high_risk_portfolio = df_results[df_results[\"risk\"] >= df_results[\"risk\"].quantile(0.67)].sample(sample_size, random_state=random_state)\n",
    "            return high_risk_portfolio[\"ticker\"]\n",
    "        \n",
    "        case _:\n",
    "            raise ValueError(f\"Unknown policy: {policy}\")\n",
    "\n",
    "# Example usage:\n",
    "# tickers = ticker_policy(df_results, policy=\"Industry\", sample_size=15, random_state=42)"
   ]
  },
  {
   "cell_type": "code",
   "execution_count": 5,
   "metadata": {},
   "outputs": [
    {
     "ename": "NameError",
     "evalue": "name 'pf' is not defined",
     "output_type": "error",
     "traceback": [
      "\u001b[0;31m---------------------------------------------------------------------------\u001b[0m",
      "\u001b[0;31mNameError\u001b[0m                                 Traceback (most recent call last)",
      "Cell \u001b[0;32mIn[5], line 28\u001b[0m\n\u001b[1;32m     25\u001b[0m start_date \u001b[38;5;241m=\u001b[39m \u001b[38;5;124m\"\u001b[39m\u001b[38;5;124m2021-12\u001b[39m\u001b[38;5;124m\"\u001b[39m\n\u001b[1;32m     26\u001b[0m end_date   \u001b[38;5;241m=\u001b[39m \u001b[38;5;124m\"\u001b[39m\u001b[38;5;124m2024-02\u001b[39m\u001b[38;5;124m\"\u001b[39m\n\u001b[0;32m---> 28\u001b[0m overall_ret, ann_ret, yoy_returns \u001b[38;5;241m=\u001b[39m extract_return(\u001b[43mpf\u001b[49m\u001b[38;5;241m.\u001b[39mwealth_index, start_date, end_date)\n\u001b[1;32m     30\u001b[0m \u001b[38;5;28mprint\u001b[39m(\u001b[38;5;124mf\u001b[39m\u001b[38;5;124m\"\u001b[39m\u001b[38;5;124mPeriod: \u001b[39m\u001b[38;5;132;01m{\u001b[39;00mstart_date\u001b[38;5;132;01m}\u001b[39;00m\u001b[38;5;124m to \u001b[39m\u001b[38;5;132;01m{\u001b[39;00mend_date\u001b[38;5;132;01m}\u001b[39;00m\u001b[38;5;124m\"\u001b[39m)\n\u001b[1;32m     31\u001b[0m \u001b[38;5;28mprint\u001b[39m(\u001b[38;5;124mf\u001b[39m\u001b[38;5;124m\"\u001b[39m\u001b[38;5;124mOverall Return: \u001b[39m\u001b[38;5;132;01m{\u001b[39;00moverall_ret\u001b[38;5;250m \u001b[39m\u001b[38;5;241m*\u001b[39m\u001b[38;5;250m \u001b[39m\u001b[38;5;241m100\u001b[39m\u001b[38;5;132;01m:\u001b[39;00m\u001b[38;5;124m.2f\u001b[39m\u001b[38;5;132;01m}\u001b[39;00m\u001b[38;5;124m%\u001b[39m\u001b[38;5;124m\"\u001b[39m)\n",
      "\u001b[0;31mNameError\u001b[0m: name 'pf' is not defined"
     ]
    }
   ],
   "source": [
    "def extract_return(wealth_index, start_date, end_date):\n",
    "    # Overall return\n",
    "    start_val = wealth_index.loc[start_date, wealth_index.columns[0]]\n",
    "    end_val   = wealth_index.loc[end_date, wealth_index.columns[0]]\n",
    "    overall = end_val / start_val - 1\n",
    "    \n",
    "    # Annualized return\n",
    "    sd = pd.to_datetime(start_date)\n",
    "    ed = pd.to_datetime(end_date)\n",
    "    years = (ed - sd).days / 365.25\n",
    "    annual = (end_val / start_val) ** (1/years) - 1\n",
    "    \n",
    "    # Year-on-year returns\n",
    "    yoy = {}\n",
    "    for year in range(int(start_date[:4]), int(end_date[:4])):\n",
    "        d1 = f\"{year}-12\"\n",
    "        d2 = f\"{year+1}-12\"\n",
    "        try:\n",
    "            ret = wealth_index.loc[d2, wealth_index.columns[0]] / wealth_index.loc[d1, wealth_index.columns[0]] - 1\n",
    "        except Exception:\n",
    "            ret = None\n",
    "        yoy[f\"{year}-{year+1}\"] = ret\n",
    "    return overall, annual, yoy\n",
    "\n",
    "start_date = \"2021-12\"\n",
    "end_date   = \"2024-02\"\n",
    "\n",
    "overall_ret, ann_ret, yoy_returns = extract_return(pf.wealth_index, start_date, end_date)\n",
    "\n",
    "print(f\"Period: {start_date} to {end_date}\")\n",
    "print(f\"Overall Return: {overall_ret * 100:.2f}%\")\n",
    "print(f\"Annualized Return: {ann_ret * 100:.2f}%\")\n",
    "print(\"Year-on-Year Returns:\", yoy_returns)"
   ]
  },
  {
   "cell_type": "code",
   "execution_count": 16,
   "metadata": {},
   "outputs": [],
   "source": [
    "import okama as ok\n",
    "\n",
    "# tickers = list(base_portfolio[\"ticker\"])\n",
    "# tickers = list(low_risk_portfolio[\"ticker\"])\n",
    "# tickers = list(med_risk_portfolio[\"ticker\"])\n",
    "# tickers = list(high_risk_portfolio[\"ticker\"])\n",
    "# tickers = list(random_portfolio)\n",
    "# tickers = list(df_results[\"ticker\"]) # All tickers\n",
    "\n",
    "tickers = ticker_policy(df_results, \"Random\", sample_size=15, random_state=42)\n",
    "\n",
    "tickers_with_ext = [f\"{ticker}.US\" for ticker in tickers]\n",
    "\n",
    "\n",
    "assets = tickers_with_ext\n",
    "weights = [1/len(tickers)] * len(tickers)\n",
    "\n",
    "pf = ok.Portfolio(\n",
    "    assets=assets,\n",
    "    weights=weights,    \n",
    "    ccy='USD',\n",
    "    rebalancing_period='month',  # 'Q' for quarterly, 'A' for annual, etc.\n",
    "    first_date='2004-01',    # pick a reasonable start date (earliest is 2003-09 from initial assessment)\n",
    "    last_date='2024-02'       # pick an end date to evaluate\n",
    ")"
   ]
  },
  {
   "cell_type": "markdown",
   "metadata": {},
   "source": [
    "### Bootstrapped Sample of Years"
   ]
  },
  {
   "cell_type": "code",
   "execution_count": 17,
   "metadata": {},
   "outputs": [],
   "source": [
    "NUMBER_OF_BOOTSTRAPPED_SAMPLES = 500\n",
    "YEARS_OF_SAMPLE = 5\n",
    "\n",
    "results = []\n",
    "\n",
    "for i in range(NUMBER_OF_BOOTSTRAPPED_SAMPLES):\n",
    "    # Randomly select a 12 month period in the range 2004-01 to 2023-01\n",
    "    END_DATE = 2023 # \n",
    "    DATE_RANGE_END = END_DATE - YEARS_OF_SAMPLE\n",
    "    start_date = f\"{np.random.randint(2004, DATE_RANGE_END):04d}-{np.random.randint(1, 13):02d}\"\n",
    "    end_date   = f\"{int(start_date[:4])+YEARS_OF_SAMPLE:04d}-{start_date[5:]}\"\n",
    "\n",
    "    overall_ret, ann_ret, yoy_returns = extract_return(pf.wealth_index, start_date, end_date)\n",
    "    \n",
    "    # Store results\n",
    "    results.append({\n",
    "        \"start_date\": start_date,\n",
    "        \"end_date\": end_date,\n",
    "        \"start_value\": pf.wealth_index.loc[start_date, pf.wealth_index.columns[0]],\n",
    "        \"end_value\": pf.wealth_index.loc[end_date, pf.wealth_index.columns[0]],\n",
    "        \"overall_ret\": overall_ret,\n",
    "        \"ann_ret\": ann_ret,\n",
    "        \"yoy_returns\": yoy_returns\n",
    "    })\n",
    "\n",
    "res = results"
   ]
  },
  {
   "cell_type": "code",
   "execution_count": 16,
   "metadata": {},
   "outputs": [],
   "source": [
    "from tools import save_portfolio_results, retrieve_portfolio_results\n",
    "\n",
    "# save_portfolio_results(portfolio_name=\"random_portfolio\", results=results, simulation=\"bootstrap\")\n"
   ]
  },
  {
   "cell_type": "code",
   "execution_count": 18,
   "metadata": {},
   "outputs": [],
   "source": [
    "res = retrieve_portfolio_results(portfolio_name=\"base_3m_5s_portfolio\", simulation=\"bootstrap\")"
   ]
  },
  {
   "cell_type": "code",
   "execution_count": 22,
   "metadata": {},
   "outputs": [
    {
     "name": "stdout",
     "output_type": "stream",
     "text": [
      "Mean Return:        24115.27\n",
      "Standard Deviation: 5201.02\n"
     ]
    }
   ],
   "source": [
    "# Extract average end value\n",
    "ovr_rets = res[\"overall_ret\"]\n",
    "print(f\"Mean Return: {round(10000 * (1 + ovr_rets.mean()), 2):>15}\")\n",
    "print(f\"Standard Deviation: {round(10000 * ovr_rets.std(), 2):>7}\")"
   ]
  },
  {
   "cell_type": "code",
   "execution_count": 92,
   "metadata": {},
   "outputs": [
    {
     "name": "stdout",
     "output_type": "stream",
     "text": [
      "Average Yearly Return:                13.18%\n",
      "Standard Deviation of Yearly Returns: 3.22%\n"
     ]
    }
   ],
   "source": [
    "# Average annual returns\n",
    "ann_rets = [result[\"ann_ret\"] for result in res]\n",
    "mean_ann_ret = np.mean(ann_rets)\n",
    "std_ann_ret = np.std(ann_rets)\n",
    "\n",
    "print(f\"Average Yearly Return: {round(mean_ann_ret * 100, 2):>20}%\", sep = \"\")\n",
    "print(\"Standard Deviation of Yearly Returns: \", round(std_ann_ret * 100, 2), \"%\", sep = \"\")"
   ]
  },
  {
   "cell_type": "markdown",
   "metadata": {},
   "source": [
    "### Monte Carlo Simulation"
   ]
  },
  {
   "cell_type": "code",
   "execution_count": null,
   "metadata": {},
   "outputs": [],
   "source": [
    "import okama as ok\n",
    "\n",
    "# Options: random_portfolio, industry_grouped_portfolio, base_portfolio, low_risk_portfolio, med_risk_portfolio, high_risk_portfolio\n",
    "\n",
    "# portfolio_choice = random_portfolio\n",
    "# portfolio_choice = list(df_results[\"ticker\"]) # All stocks\n",
    "tickers = ticker_policy(df_results, policy=\"Random\", sample_size=15, random_state=42)\n",
    "\n",
    "\n",
    "tickers_with_ext = [f\"{ticker}.US\" for ticker in tickers]\n",
    "\n",
    "assets = tickers_with_ext\n",
    "weights = [1/len(assets)] * len(assets) # Equal weights\n",
    "\n",
    "pf = ok.Portfolio(\n",
    "    assets=assets,\n",
    "    weights=weights,    \n",
    "    ccy='USD',\n",
    "    rebalancing_period='month',  # 'Q' for quarterly, 'A' for annual, etc.\n",
    "    first_date='2004-01',    # pick a reasonable start date (earliest is 2003-09 from initial assessment)\n",
    "    last_date='2024-02'       # pick an end date to evaluate\n",
    ")"
   ]
  },
  {
   "cell_type": "code",
   "execution_count": null,
   "metadata": {},
   "outputs": [],
   "source": [
    "import asyncio\n",
    "import random\n",
    "import pandas as pd\n",
    "import okama as ok\n",
    "\n",
    "# Number of simulations\n",
    "num_simulations = 5\n",
    "\n",
    "# List to store the results\n",
    "returns_list = []\n",
    "\n",
    "async def run_simulation(i):\n",
    "    tickers = ticker_policy(df_results, \"Random\", sample_size=15, random_state=i)\n",
    "    tickers_with_ext = [f\"{ticker}.US\" for ticker in tickers]\n",
    "    assets = tickers_with_ext\n",
    "    weights = [1/len(assets)] * len(assets)  # Equal weights\n",
    "    \n",
    "    pf = ok.Portfolio(\n",
    "        assets=assets,\n",
    "        weights=weights,    \n",
    "        ccy='USD',\n",
    "        rebalancing_period='month',  # 'Q' for quarterly, 'A' for annual, etc.\n",
    "        first_date='2014-01',    # pick a reasonable start date (earliest is 2003-09 from initial assessment)\n",
    "        last_date='2024-02'       # pick an end date to evaluate\n",
    "    )\n",
    "            \n",
    "    # Run the Monte Carlo simulation with n=1\n",
    "    wealth = pf.monte_carlo_wealth(distr='norm', years=5, n=1)\n",
    "    \n",
    "    # Take the last row as the 1 year return\n",
    "    returns_y = wealth.iloc[-1, 0]\n",
    "    \n",
    "    return returns_y\n",
    "\n",
    "async def main():\n",
    "    tasks = [run_simulation(i) for i in range(num_simulations)]\n",
    "    results = await asyncio.gather(*tasks)\n",
    "    returns_series = pd.Series(results)\n",
    "    return returns_series\n",
    "\n",
    "# Run the main function and get the results\n",
    "try:\n",
    "    loop = asyncio.get_running_loop()\n",
    "except RuntimeError:\n",
    "    # No event loop is running, create a new one\n",
    "    asyncio.run(main())\n",
    "else:\n",
    "    # An event loop is running, schedule the task\n",
    "    loop.create_task(main())"
   ]
  },
  {
   "cell_type": "code",
   "execution_count": null,
   "metadata": {},
   "outputs": [
    {
     "name": "stderr",
     "output_type": "stream",
     "text": [
      "  2%|▏         | 1/50 [00:28<23:20, 28.59s/it]\n"
     ]
    },
    {
     "ename": "KeyboardInterrupt",
     "evalue": "",
     "output_type": "error",
     "traceback": [
      "\u001b[0;31m---------------------------------------------------------------------------\u001b[0m",
      "\u001b[0;31mKeyboardInterrupt\u001b[0m                         Traceback (most recent call last)",
      "Cell \u001b[0;32mIn[31], line 17\u001b[0m\n\u001b[1;32m     14\u001b[0m assets \u001b[38;5;241m=\u001b[39m tickers_with_ext\n\u001b[1;32m     15\u001b[0m weights \u001b[38;5;241m=\u001b[39m [\u001b[38;5;241m1\u001b[39m\u001b[38;5;241m/\u001b[39m\u001b[38;5;28mlen\u001b[39m(assets)] \u001b[38;5;241m*\u001b[39m \u001b[38;5;28mlen\u001b[39m(assets) \u001b[38;5;66;03m# Equal weights\u001b[39;00m\n\u001b[0;32m---> 17\u001b[0m pf \u001b[38;5;241m=\u001b[39m \u001b[43mok\u001b[49m\u001b[38;5;241;43m.\u001b[39;49m\u001b[43mPortfolio\u001b[49m\u001b[43m(\u001b[49m\n\u001b[1;32m     18\u001b[0m \u001b[43m    \u001b[49m\u001b[43massets\u001b[49m\u001b[38;5;241;43m=\u001b[39;49m\u001b[43massets\u001b[49m\u001b[43m,\u001b[49m\n\u001b[1;32m     19\u001b[0m \u001b[43m    \u001b[49m\u001b[43mweights\u001b[49m\u001b[38;5;241;43m=\u001b[39;49m\u001b[43mweights\u001b[49m\u001b[43m,\u001b[49m\u001b[43m    \u001b[49m\n\u001b[1;32m     20\u001b[0m \u001b[43m    \u001b[49m\u001b[43mccy\u001b[49m\u001b[38;5;241;43m=\u001b[39;49m\u001b[38;5;124;43m'\u001b[39;49m\u001b[38;5;124;43mUSD\u001b[39;49m\u001b[38;5;124;43m'\u001b[39;49m\u001b[43m,\u001b[49m\n\u001b[1;32m     21\u001b[0m \u001b[43m    \u001b[49m\u001b[43mrebalancing_period\u001b[49m\u001b[38;5;241;43m=\u001b[39;49m\u001b[38;5;124;43m'\u001b[39;49m\u001b[38;5;124;43mmonth\u001b[39;49m\u001b[38;5;124;43m'\u001b[39;49m\u001b[43m,\u001b[49m\u001b[43m  \u001b[49m\u001b[38;5;66;43;03m# 'Q' for quarterly, 'A' for annual, etc.\u001b[39;49;00m\n\u001b[1;32m     22\u001b[0m \u001b[43m    \u001b[49m\u001b[43mfirst_date\u001b[49m\u001b[38;5;241;43m=\u001b[39;49m\u001b[38;5;124;43m'\u001b[39;49m\u001b[38;5;124;43m2014-01\u001b[39;49m\u001b[38;5;124;43m'\u001b[39;49m\u001b[43m,\u001b[49m\u001b[43m    \u001b[49m\u001b[38;5;66;43;03m# pick a reasonable start date (earliest is 2003-09 from initial assessment)\u001b[39;49;00m\n\u001b[1;32m     23\u001b[0m \u001b[43m    \u001b[49m\u001b[43mlast_date\u001b[49m\u001b[38;5;241;43m=\u001b[39;49m\u001b[38;5;124;43m'\u001b[39;49m\u001b[38;5;124;43m2024-02\u001b[39;49m\u001b[38;5;124;43m'\u001b[39;49m\u001b[43m       \u001b[49m\u001b[38;5;66;43;03m# pick an end date to evaluate\u001b[39;49;00m\n\u001b[1;32m     24\u001b[0m \u001b[43m\u001b[49m\u001b[43m)\u001b[49m\n\u001b[1;32m     26\u001b[0m \u001b[38;5;66;03m# Run the Monte Carlo simulation with n=1\u001b[39;00m\n\u001b[1;32m     27\u001b[0m wealth \u001b[38;5;241m=\u001b[39m pf\u001b[38;5;241m.\u001b[39mmonte_carlo_wealth(distr\u001b[38;5;241m=\u001b[39m\u001b[38;5;124m'\u001b[39m\u001b[38;5;124mnorm\u001b[39m\u001b[38;5;124m'\u001b[39m, years\u001b[38;5;241m=\u001b[39m\u001b[38;5;241m5\u001b[39m, n\u001b[38;5;241m=\u001b[39m\u001b[38;5;241m1\u001b[39m)\n",
      "File \u001b[0;32m~/Documents/School/Carroll_2024-25/SeniorProject-PortfolioManagement/.venv/lib/python3.10/site-packages/okama/portfolio.py:83\u001b[0m, in \u001b[0;36mPortfolio.__init__\u001b[0;34m(self, assets, first_date, last_date, ccy, inflation, weights, rebalancing_period, symbol)\u001b[0m\n\u001b[1;32m     71\u001b[0m \u001b[38;5;28;01mdef\u001b[39;00m\u001b[38;5;250m \u001b[39m\u001b[38;5;21m__init__\u001b[39m(\n\u001b[1;32m     72\u001b[0m     \u001b[38;5;28mself\u001b[39m,\n\u001b[1;32m     73\u001b[0m     assets: Optional[List[\u001b[38;5;28mstr\u001b[39m]] \u001b[38;5;241m=\u001b[39m \u001b[38;5;28;01mNone\u001b[39;00m,\n\u001b[0;32m   (...)\u001b[0m\n\u001b[1;32m     81\u001b[0m     symbol: \u001b[38;5;28mstr\u001b[39m \u001b[38;5;241m=\u001b[39m \u001b[38;5;28;01mNone\u001b[39;00m,\n\u001b[1;32m     82\u001b[0m ):\n\u001b[0;32m---> 83\u001b[0m     \u001b[38;5;28;43msuper\u001b[39;49m\u001b[43m(\u001b[49m\u001b[43m)\u001b[49m\u001b[38;5;241;43m.\u001b[39;49m\u001b[38;5;21;43m__init__\u001b[39;49m\u001b[43m(\u001b[49m\n\u001b[1;32m     84\u001b[0m \u001b[43m        \u001b[49m\u001b[43massets\u001b[49m\u001b[43m,\u001b[49m\n\u001b[1;32m     85\u001b[0m \u001b[43m        \u001b[49m\u001b[43mfirst_date\u001b[49m\u001b[38;5;241;43m=\u001b[39;49m\u001b[43mfirst_date\u001b[49m\u001b[43m,\u001b[49m\n\u001b[1;32m     86\u001b[0m \u001b[43m        \u001b[49m\u001b[43mlast_date\u001b[49m\u001b[38;5;241;43m=\u001b[39;49m\u001b[43mlast_date\u001b[49m\u001b[43m,\u001b[49m\n\u001b[1;32m     87\u001b[0m \u001b[43m        \u001b[49m\u001b[43mccy\u001b[49m\u001b[38;5;241;43m=\u001b[39;49m\u001b[43mccy\u001b[49m\u001b[43m,\u001b[49m\n\u001b[1;32m     88\u001b[0m \u001b[43m        \u001b[49m\u001b[43minflation\u001b[49m\u001b[38;5;241;43m=\u001b[39;49m\u001b[43minflation\u001b[49m\u001b[43m,\u001b[49m\n\u001b[1;32m     89\u001b[0m \u001b[43m    \u001b[49m\u001b[43m)\u001b[49m\n\u001b[1;32m     90\u001b[0m     \u001b[38;5;28mself\u001b[39m\u001b[38;5;241m.\u001b[39mweights \u001b[38;5;241m=\u001b[39m weights\n\u001b[1;32m     91\u001b[0m     \u001b[38;5;28mself\u001b[39m\u001b[38;5;241m.\u001b[39massets_weights \u001b[38;5;241m=\u001b[39m \u001b[38;5;28mdict\u001b[39m(\u001b[38;5;28mzip\u001b[39m(\u001b[38;5;28mself\u001b[39m\u001b[38;5;241m.\u001b[39msymbols, \u001b[38;5;28mself\u001b[39m\u001b[38;5;241m.\u001b[39mweights))\n",
      "File \u001b[0;32m~/Documents/School/Carroll_2024-25/SeniorProject-PortfolioManagement/.venv/lib/python3.10/site-packages/okama/common/make_asset_list.py:64\u001b[0m, in \u001b[0;36mListMaker.__init__\u001b[0;34m(self, assets, first_date, last_date, ccy, inflation)\u001b[0m\n\u001b[1;32m     51\u001b[0m \u001b[38;5;28mself\u001b[39m\u001b[38;5;241m.\u001b[39m_assets \u001b[38;5;241m=\u001b[39m \u001b[38;5;28mlist\u001b[39m(\u001b[38;5;28mdict\u001b[39m\u001b[38;5;241m.\u001b[39mfromkeys(assets)) \u001b[38;5;28;01mif\u001b[39;00m assets \u001b[38;5;28;01melse\u001b[39;00m [settings\u001b[38;5;241m.\u001b[39mdefault_ticker]\n\u001b[1;32m     52\u001b[0m \u001b[38;5;28mself\u001b[39m\u001b[38;5;241m.\u001b[39m_currency \u001b[38;5;241m=\u001b[39m asset\u001b[38;5;241m.\u001b[39mAsset(symbol\u001b[38;5;241m=\u001b[39m\u001b[38;5;124mf\u001b[39m\u001b[38;5;124m\"\u001b[39m\u001b[38;5;132;01m{\u001b[39;00mccy\u001b[38;5;132;01m}\u001b[39;00m\u001b[38;5;124m.FX\u001b[39m\u001b[38;5;124m\"\u001b[39m)\n\u001b[1;32m     53\u001b[0m (\n\u001b[1;32m     54\u001b[0m     \u001b[38;5;28mself\u001b[39m\u001b[38;5;241m.\u001b[39masset_obj_dict,\n\u001b[1;32m     55\u001b[0m     \u001b[38;5;28mself\u001b[39m\u001b[38;5;241m.\u001b[39mfirst_date,\n\u001b[1;32m     56\u001b[0m     \u001b[38;5;28mself\u001b[39m\u001b[38;5;241m.\u001b[39mlast_date,\n\u001b[1;32m     57\u001b[0m     \u001b[38;5;28mself\u001b[39m\u001b[38;5;241m.\u001b[39mnewest_asset,\n\u001b[1;32m     58\u001b[0m     \u001b[38;5;28mself\u001b[39m\u001b[38;5;241m.\u001b[39meldest_asset,\n\u001b[1;32m     59\u001b[0m     \u001b[38;5;28mself\u001b[39m\u001b[38;5;241m.\u001b[39mnames,\n\u001b[1;32m     60\u001b[0m     \u001b[38;5;28mself\u001b[39m\u001b[38;5;241m.\u001b[39mcurrencies,\n\u001b[1;32m     61\u001b[0m     \u001b[38;5;28mself\u001b[39m\u001b[38;5;241m.\u001b[39massets_first_dates,\n\u001b[1;32m     62\u001b[0m     \u001b[38;5;28mself\u001b[39m\u001b[38;5;241m.\u001b[39massets_last_dates,\n\u001b[1;32m     63\u001b[0m     \u001b[38;5;28mself\u001b[39m\u001b[38;5;241m.\u001b[39massets_ror,\n\u001b[0;32m---> 64\u001b[0m ) \u001b[38;5;241m=\u001b[39m \u001b[38;5;28;43mself\u001b[39;49m\u001b[38;5;241;43m.\u001b[39;49m\u001b[43m_make_list\u001b[49m\u001b[43m(\u001b[49m\n\u001b[1;32m     65\u001b[0m \u001b[43m    \u001b[49m\u001b[43mls\u001b[49m\u001b[38;5;241;43m=\u001b[39;49m\u001b[38;5;28;43mself\u001b[39;49m\u001b[38;5;241;43m.\u001b[39;49m\u001b[43m_list_of_asset_like_objects\u001b[49m\u001b[43m,\u001b[49m\n\u001b[1;32m     66\u001b[0m \u001b[43m    \u001b[49m\u001b[43mfirst_date\u001b[49m\u001b[38;5;241;43m=\u001b[39;49m\u001b[43mfirst_date\u001b[49m\u001b[43m,\u001b[49m\n\u001b[1;32m     67\u001b[0m \u001b[43m    \u001b[49m\u001b[43mlast_date\u001b[49m\u001b[38;5;241;43m=\u001b[39;49m\u001b[43mlast_date\u001b[49m\u001b[43m,\u001b[49m\n\u001b[1;32m     68\u001b[0m \u001b[43m\u001b[49m\u001b[43m)\u001b[49m\u001b[38;5;241m.\u001b[39mvalues()\n\u001b[1;32m     69\u001b[0m \u001b[38;5;28;01mif\u001b[39;00m first_date:\n\u001b[1;32m     70\u001b[0m     \u001b[38;5;28mself\u001b[39m\u001b[38;5;241m.\u001b[39mfirst_date \u001b[38;5;241m=\u001b[39m \u001b[38;5;28mmax\u001b[39m(\u001b[38;5;28mself\u001b[39m\u001b[38;5;241m.\u001b[39mfirst_date, pd\u001b[38;5;241m.\u001b[39mto_datetime(first_date))\n",
      "File \u001b[0;32m~/Documents/School/Carroll_2024-25/SeniorProject-PortfolioManagement/.venv/lib/python3.10/site-packages/okama/common/make_asset_list.py:127\u001b[0m, in \u001b[0;36mListMaker._make_list\u001b[0;34m(self, ls, first_date, last_date)\u001b[0m\n\u001b[1;32m    125\u001b[0m input_last_date \u001b[38;5;241m=\u001b[39m pd\u001b[38;5;241m.\u001b[39mto_datetime(last_date) \u001b[38;5;28;01mif\u001b[39;00m last_date \u001b[38;5;28;01melse\u001b[39;00m \u001b[38;5;28;01mNone\u001b[39;00m\n\u001b[1;32m    126\u001b[0m \u001b[38;5;28;01mfor\u001b[39;00m i, x \u001b[38;5;129;01min\u001b[39;00m \u001b[38;5;28menumerate\u001b[39m(ls):\n\u001b[0;32m--> 127\u001b[0m     asset_item \u001b[38;5;241m=\u001b[39m x \u001b[38;5;28;01mif\u001b[39;00m \u001b[38;5;28mhasattr\u001b[39m(x, \u001b[38;5;124m\"\u001b[39m\u001b[38;5;124msymbol\u001b[39m\u001b[38;5;124m\"\u001b[39m) \u001b[38;5;129;01mand\u001b[39;00m \u001b[38;5;28mhasattr\u001b[39m(x, \u001b[38;5;124m\"\u001b[39m\u001b[38;5;124mror\u001b[39m\u001b[38;5;124m\"\u001b[39m) \u001b[38;5;28;01melse\u001b[39;00m \u001b[43masset\u001b[49m\u001b[38;5;241;43m.\u001b[39;49m\u001b[43mAsset\u001b[49m\u001b[43m(\u001b[49m\u001b[43mx\u001b[49m\u001b[43m)\u001b[49m\n\u001b[1;32m    128\u001b[0m     \u001b[38;5;66;03m# get asset own first and last dates\u001b[39;00m\n\u001b[1;32m    129\u001b[0m     asset_own_first_date \u001b[38;5;241m=\u001b[39m asset_item\u001b[38;5;241m.\u001b[39mfirst_date\n",
      "File \u001b[0;32m~/Documents/School/Carroll_2024-25/SeniorProject-PortfolioManagement/.venv/lib/python3.10/site-packages/okama/asset.py:26\u001b[0m, in \u001b[0;36mAsset.__init__\u001b[0;34m(self, symbol)\u001b[0m\n\u001b[1;32m     24\u001b[0m \u001b[38;5;28mself\u001b[39m\u001b[38;5;241m.\u001b[39m_check_namespace()\n\u001b[1;32m     25\u001b[0m \u001b[38;5;28mself\u001b[39m\u001b[38;5;241m.\u001b[39m_get_symbol_data(symbol)\n\u001b[0;32m---> 26\u001b[0m \u001b[38;5;28mself\u001b[39m\u001b[38;5;241m.\u001b[39mror: pd\u001b[38;5;241m.\u001b[39mSeries \u001b[38;5;241m=\u001b[39m \u001b[43mdata_queries\u001b[49m\u001b[38;5;241;43m.\u001b[39;49m\u001b[43mQueryData\u001b[49m\u001b[38;5;241;43m.\u001b[39;49m\u001b[43mget_ror\u001b[49m\u001b[43m(\u001b[49m\u001b[43msymbol\u001b[49m\u001b[43m)\u001b[49m\n\u001b[1;32m     27\u001b[0m \u001b[38;5;28mself\u001b[39m\u001b[38;5;241m.\u001b[39mfirst_date: pd\u001b[38;5;241m.\u001b[39mTimestamp \u001b[38;5;241m=\u001b[39m \u001b[38;5;28mself\u001b[39m\u001b[38;5;241m.\u001b[39mror\u001b[38;5;241m.\u001b[39mindex[\u001b[38;5;241m0\u001b[39m]\u001b[38;5;241m.\u001b[39mto_timestamp()\n\u001b[1;32m     28\u001b[0m \u001b[38;5;28mself\u001b[39m\u001b[38;5;241m.\u001b[39mlast_date: pd\u001b[38;5;241m.\u001b[39mTimestamp \u001b[38;5;241m=\u001b[39m \u001b[38;5;28mself\u001b[39m\u001b[38;5;241m.\u001b[39mror\u001b[38;5;241m.\u001b[39mindex[\u001b[38;5;241m-\u001b[39m\u001b[38;5;241m1\u001b[39m]\u001b[38;5;241m.\u001b[39mto_timestamp()\n",
      "File \u001b[0;32m~/Documents/School/Carroll_2024-25/SeniorProject-PortfolioManagement/.venv/lib/python3.10/site-packages/okama/api/data_queries.py:64\u001b[0m, in \u001b[0;36mQueryData.get_ror\u001b[0;34m(symbol, first_date, last_date, period)\u001b[0m\n\u001b[1;32m     54\u001b[0m \u001b[38;5;129m@staticmethod\u001b[39m\n\u001b[1;32m     55\u001b[0m \u001b[38;5;28;01mdef\u001b[39;00m\u001b[38;5;250m \u001b[39m\u001b[38;5;21mget_ror\u001b[39m(\n\u001b[1;32m     56\u001b[0m     symbol: \u001b[38;5;28mstr\u001b[39m,\n\u001b[0;32m   (...)\u001b[0m\n\u001b[1;32m     59\u001b[0m     period\u001b[38;5;241m=\u001b[39m\u001b[38;5;124m\"\u001b[39m\u001b[38;5;124mM\u001b[39m\u001b[38;5;124m\"\u001b[39m,\n\u001b[1;32m     60\u001b[0m ) \u001b[38;5;241m-\u001b[39m\u001b[38;5;241m>\u001b[39m pd\u001b[38;5;241m.\u001b[39mSeries:\n\u001b[1;32m     61\u001b[0m \u001b[38;5;250m    \u001b[39m\u001b[38;5;124;03m\"\"\"\u001b[39;00m\n\u001b[1;32m     62\u001b[0m \u001b[38;5;124;03m    Requests api_methods.API for rate of return time series.\u001b[39;00m\n\u001b[1;32m     63\u001b[0m \u001b[38;5;124;03m    \"\"\"\u001b[39;00m\n\u001b[0;32m---> 64\u001b[0m     csv_input \u001b[38;5;241m=\u001b[39m \u001b[43mapi_methods\u001b[49m\u001b[38;5;241;43m.\u001b[39;49m\u001b[43mAPI\u001b[49m\u001b[38;5;241;43m.\u001b[39;49m\u001b[43mget_ror\u001b[49m\u001b[43m(\u001b[49m\u001b[43msymbol\u001b[49m\u001b[38;5;241;43m=\u001b[39;49m\u001b[43msymbol\u001b[49m\u001b[43m,\u001b[49m\u001b[43m \u001b[49m\u001b[43mfirst_date\u001b[49m\u001b[38;5;241;43m=\u001b[39;49m\u001b[43mfirst_date\u001b[49m\u001b[43m,\u001b[49m\u001b[43m \u001b[49m\u001b[43mlast_date\u001b[49m\u001b[38;5;241;43m=\u001b[39;49m\u001b[43mlast_date\u001b[49m\u001b[43m,\u001b[49m\u001b[43m \u001b[49m\u001b[43mperiod\u001b[49m\u001b[38;5;241;43m=\u001b[39;49m\u001b[43mperiod\u001b[49m\u001b[43m)\u001b[49m\n\u001b[1;32m     65\u001b[0m     \u001b[38;5;28;01mreturn\u001b[39;00m QueryData\u001b[38;5;241m.\u001b[39mcsv_to_series(csv_input, period)\n",
      "File \u001b[0;32m~/Documents/School/Carroll_2024-25/SeniorProject-PortfolioManagement/.venv/lib/python3.10/site-packages/okama/api/api_methods.py:74\u001b[0m, in \u001b[0;36mAPI.get_ror\u001b[0;34m(cls, symbol, first_date, last_date, period)\u001b[0m\n\u001b[1;32m     66\u001b[0m \u001b[38;5;129m@classmethod\u001b[39m\n\u001b[1;32m     67\u001b[0m \u001b[38;5;28;01mdef\u001b[39;00m\u001b[38;5;250m \u001b[39m\u001b[38;5;21mget_ror\u001b[39m(\n\u001b[1;32m     68\u001b[0m     \u001b[38;5;28mcls\u001b[39m,\n\u001b[0;32m   (...)\u001b[0m\n\u001b[1;32m     72\u001b[0m     period: \u001b[38;5;28mstr\u001b[39m \u001b[38;5;241m=\u001b[39m \u001b[38;5;124m\"\u001b[39m\u001b[38;5;124mm\u001b[39m\u001b[38;5;124m\"\u001b[39m,\n\u001b[1;32m     73\u001b[0m ):\n\u001b[0;32m---> 74\u001b[0m     \u001b[38;5;28;01mreturn\u001b[39;00m \u001b[38;5;28;43mcls\u001b[39;49m\u001b[38;5;241;43m.\u001b[39;49m\u001b[43mconnect\u001b[49m\u001b[43m(\u001b[49m\n\u001b[1;32m     75\u001b[0m \u001b[43m        \u001b[49m\u001b[43mendpoint\u001b[49m\u001b[38;5;241;43m=\u001b[39;49m\u001b[38;5;28;43mcls\u001b[39;49m\u001b[38;5;241;43m.\u001b[39;49m\u001b[43mendpoint_ror\u001b[49m\u001b[43m,\u001b[49m\n\u001b[1;32m     76\u001b[0m \u001b[43m        \u001b[49m\u001b[43msymbol\u001b[49m\u001b[38;5;241;43m=\u001b[39;49m\u001b[43msymbol\u001b[49m\u001b[43m,\u001b[49m\n\u001b[1;32m     77\u001b[0m \u001b[43m        \u001b[49m\u001b[43mfirst_date\u001b[49m\u001b[38;5;241;43m=\u001b[39;49m\u001b[43mfirst_date\u001b[49m\u001b[43m,\u001b[49m\n\u001b[1;32m     78\u001b[0m \u001b[43m        \u001b[49m\u001b[43mlast_date\u001b[49m\u001b[38;5;241;43m=\u001b[39;49m\u001b[43mlast_date\u001b[49m\u001b[43m,\u001b[49m\n\u001b[1;32m     79\u001b[0m \u001b[43m        \u001b[49m\u001b[43mperiod\u001b[49m\u001b[38;5;241;43m=\u001b[39;49m\u001b[43mperiod\u001b[49m\u001b[43m,\u001b[49m\n\u001b[1;32m     80\u001b[0m \u001b[43m    \u001b[49m\u001b[43m)\u001b[49m\n",
      "File \u001b[0;32m~/Documents/School/Carroll_2024-25/SeniorProject-PortfolioManagement/.venv/lib/python3.10/site-packages/okama/api/api_methods.py:53\u001b[0m, in \u001b[0;36mAPI.connect\u001b[0;34m(cls, endpoint, symbol, first_date, last_date, period)\u001b[0m\n\u001b[1;32m     51\u001b[0m session\u001b[38;5;241m.\u001b[39mmount(\u001b[38;5;124m\"\u001b[39m\u001b[38;5;124mhttp://\u001b[39m\u001b[38;5;124m\"\u001b[39m, adapter)\n\u001b[1;32m     52\u001b[0m \u001b[38;5;28;01mtry\u001b[39;00m:\n\u001b[0;32m---> 53\u001b[0m     r \u001b[38;5;241m=\u001b[39m \u001b[43msession\u001b[49m\u001b[38;5;241;43m.\u001b[39;49m\u001b[43mget\u001b[49m\u001b[43m(\u001b[49m\u001b[43mrequest_url\u001b[49m\u001b[43m,\u001b[49m\u001b[43m \u001b[49m\u001b[43mparams\u001b[49m\u001b[38;5;241;43m=\u001b[39;49m\u001b[43mparams\u001b[49m\u001b[43m,\u001b[49m\u001b[43m \u001b[49m\u001b[43mverify\u001b[49m\u001b[38;5;241;43m=\u001b[39;49m\u001b[38;5;28;43;01mFalse\u001b[39;49;00m\u001b[43m,\u001b[49m\u001b[43m \u001b[49m\u001b[43mtimeout\u001b[49m\u001b[38;5;241;43m=\u001b[39;49m\u001b[38;5;28;43mcls\u001b[39;49m\u001b[38;5;241;43m.\u001b[39;49m\u001b[43mdefault_timeout\u001b[49m\u001b[43m)\u001b[49m\n\u001b[1;32m     54\u001b[0m     r\u001b[38;5;241m.\u001b[39mraise_for_status()\n\u001b[1;32m     55\u001b[0m \u001b[38;5;28;01mexcept\u001b[39;00m requests\u001b[38;5;241m.\u001b[39mexceptions\u001b[38;5;241m.\u001b[39mHTTPError \u001b[38;5;28;01mas\u001b[39;00m errh:\n",
      "File \u001b[0;32m~/Documents/School/Carroll_2024-25/SeniorProject-PortfolioManagement/.venv/lib/python3.10/site-packages/requests/sessions.py:602\u001b[0m, in \u001b[0;36mSession.get\u001b[0;34m(self, url, **kwargs)\u001b[0m\n\u001b[1;32m    594\u001b[0m \u001b[38;5;250m\u001b[39m\u001b[38;5;124mr\u001b[39m\u001b[38;5;124;03m\"\"\"Sends a GET request. Returns :class:`Response` object.\u001b[39;00m\n\u001b[1;32m    595\u001b[0m \n\u001b[1;32m    596\u001b[0m \u001b[38;5;124;03m:param url: URL for the new :class:`Request` object.\u001b[39;00m\n\u001b[1;32m    597\u001b[0m \u001b[38;5;124;03m:param \\*\\*kwargs: Optional arguments that ``request`` takes.\u001b[39;00m\n\u001b[1;32m    598\u001b[0m \u001b[38;5;124;03m:rtype: requests.Response\u001b[39;00m\n\u001b[1;32m    599\u001b[0m \u001b[38;5;124;03m\"\"\"\u001b[39;00m\n\u001b[1;32m    601\u001b[0m kwargs\u001b[38;5;241m.\u001b[39msetdefault(\u001b[38;5;124m\"\u001b[39m\u001b[38;5;124mallow_redirects\u001b[39m\u001b[38;5;124m\"\u001b[39m, \u001b[38;5;28;01mTrue\u001b[39;00m)\n\u001b[0;32m--> 602\u001b[0m \u001b[38;5;28;01mreturn\u001b[39;00m \u001b[38;5;28;43mself\u001b[39;49m\u001b[38;5;241;43m.\u001b[39;49m\u001b[43mrequest\u001b[49m\u001b[43m(\u001b[49m\u001b[38;5;124;43m\"\u001b[39;49m\u001b[38;5;124;43mGET\u001b[39;49m\u001b[38;5;124;43m\"\u001b[39;49m\u001b[43m,\u001b[49m\u001b[43m \u001b[49m\u001b[43murl\u001b[49m\u001b[43m,\u001b[49m\u001b[43m \u001b[49m\u001b[38;5;241;43m*\u001b[39;49m\u001b[38;5;241;43m*\u001b[39;49m\u001b[43mkwargs\u001b[49m\u001b[43m)\u001b[49m\n",
      "File \u001b[0;32m~/Documents/School/Carroll_2024-25/SeniorProject-PortfolioManagement/.venv/lib/python3.10/site-packages/requests/sessions.py:589\u001b[0m, in \u001b[0;36mSession.request\u001b[0;34m(self, method, url, params, data, headers, cookies, files, auth, timeout, allow_redirects, proxies, hooks, stream, verify, cert, json)\u001b[0m\n\u001b[1;32m    584\u001b[0m send_kwargs \u001b[38;5;241m=\u001b[39m {\n\u001b[1;32m    585\u001b[0m     \u001b[38;5;124m\"\u001b[39m\u001b[38;5;124mtimeout\u001b[39m\u001b[38;5;124m\"\u001b[39m: timeout,\n\u001b[1;32m    586\u001b[0m     \u001b[38;5;124m\"\u001b[39m\u001b[38;5;124mallow_redirects\u001b[39m\u001b[38;5;124m\"\u001b[39m: allow_redirects,\n\u001b[1;32m    587\u001b[0m }\n\u001b[1;32m    588\u001b[0m send_kwargs\u001b[38;5;241m.\u001b[39mupdate(settings)\n\u001b[0;32m--> 589\u001b[0m resp \u001b[38;5;241m=\u001b[39m \u001b[38;5;28;43mself\u001b[39;49m\u001b[38;5;241;43m.\u001b[39;49m\u001b[43msend\u001b[49m\u001b[43m(\u001b[49m\u001b[43mprep\u001b[49m\u001b[43m,\u001b[49m\u001b[43m \u001b[49m\u001b[38;5;241;43m*\u001b[39;49m\u001b[38;5;241;43m*\u001b[39;49m\u001b[43msend_kwargs\u001b[49m\u001b[43m)\u001b[49m\n\u001b[1;32m    591\u001b[0m \u001b[38;5;28;01mreturn\u001b[39;00m resp\n",
      "File \u001b[0;32m~/Documents/School/Carroll_2024-25/SeniorProject-PortfolioManagement/.venv/lib/python3.10/site-packages/requests/sessions.py:703\u001b[0m, in \u001b[0;36mSession.send\u001b[0;34m(self, request, **kwargs)\u001b[0m\n\u001b[1;32m    700\u001b[0m start \u001b[38;5;241m=\u001b[39m preferred_clock()\n\u001b[1;32m    702\u001b[0m \u001b[38;5;66;03m# Send the request\u001b[39;00m\n\u001b[0;32m--> 703\u001b[0m r \u001b[38;5;241m=\u001b[39m \u001b[43madapter\u001b[49m\u001b[38;5;241;43m.\u001b[39;49m\u001b[43msend\u001b[49m\u001b[43m(\u001b[49m\u001b[43mrequest\u001b[49m\u001b[43m,\u001b[49m\u001b[43m \u001b[49m\u001b[38;5;241;43m*\u001b[39;49m\u001b[38;5;241;43m*\u001b[39;49m\u001b[43mkwargs\u001b[49m\u001b[43m)\u001b[49m\n\u001b[1;32m    705\u001b[0m \u001b[38;5;66;03m# Total elapsed time of the request (approximately)\u001b[39;00m\n\u001b[1;32m    706\u001b[0m elapsed \u001b[38;5;241m=\u001b[39m preferred_clock() \u001b[38;5;241m-\u001b[39m start\n",
      "File \u001b[0;32m~/Documents/School/Carroll_2024-25/SeniorProject-PortfolioManagement/.venv/lib/python3.10/site-packages/requests/adapters.py:667\u001b[0m, in \u001b[0;36mHTTPAdapter.send\u001b[0;34m(self, request, stream, timeout, verify, cert, proxies)\u001b[0m\n\u001b[1;32m    664\u001b[0m     timeout \u001b[38;5;241m=\u001b[39m TimeoutSauce(connect\u001b[38;5;241m=\u001b[39mtimeout, read\u001b[38;5;241m=\u001b[39mtimeout)\n\u001b[1;32m    666\u001b[0m \u001b[38;5;28;01mtry\u001b[39;00m:\n\u001b[0;32m--> 667\u001b[0m     resp \u001b[38;5;241m=\u001b[39m \u001b[43mconn\u001b[49m\u001b[38;5;241;43m.\u001b[39;49m\u001b[43murlopen\u001b[49m\u001b[43m(\u001b[49m\n\u001b[1;32m    668\u001b[0m \u001b[43m        \u001b[49m\u001b[43mmethod\u001b[49m\u001b[38;5;241;43m=\u001b[39;49m\u001b[43mrequest\u001b[49m\u001b[38;5;241;43m.\u001b[39;49m\u001b[43mmethod\u001b[49m\u001b[43m,\u001b[49m\n\u001b[1;32m    669\u001b[0m \u001b[43m        \u001b[49m\u001b[43murl\u001b[49m\u001b[38;5;241;43m=\u001b[39;49m\u001b[43murl\u001b[49m\u001b[43m,\u001b[49m\n\u001b[1;32m    670\u001b[0m \u001b[43m        \u001b[49m\u001b[43mbody\u001b[49m\u001b[38;5;241;43m=\u001b[39;49m\u001b[43mrequest\u001b[49m\u001b[38;5;241;43m.\u001b[39;49m\u001b[43mbody\u001b[49m\u001b[43m,\u001b[49m\n\u001b[1;32m    671\u001b[0m \u001b[43m        \u001b[49m\u001b[43mheaders\u001b[49m\u001b[38;5;241;43m=\u001b[39;49m\u001b[43mrequest\u001b[49m\u001b[38;5;241;43m.\u001b[39;49m\u001b[43mheaders\u001b[49m\u001b[43m,\u001b[49m\n\u001b[1;32m    672\u001b[0m \u001b[43m        \u001b[49m\u001b[43mredirect\u001b[49m\u001b[38;5;241;43m=\u001b[39;49m\u001b[38;5;28;43;01mFalse\u001b[39;49;00m\u001b[43m,\u001b[49m\n\u001b[1;32m    673\u001b[0m \u001b[43m        \u001b[49m\u001b[43massert_same_host\u001b[49m\u001b[38;5;241;43m=\u001b[39;49m\u001b[38;5;28;43;01mFalse\u001b[39;49;00m\u001b[43m,\u001b[49m\n\u001b[1;32m    674\u001b[0m \u001b[43m        \u001b[49m\u001b[43mpreload_content\u001b[49m\u001b[38;5;241;43m=\u001b[39;49m\u001b[38;5;28;43;01mFalse\u001b[39;49;00m\u001b[43m,\u001b[49m\n\u001b[1;32m    675\u001b[0m \u001b[43m        \u001b[49m\u001b[43mdecode_content\u001b[49m\u001b[38;5;241;43m=\u001b[39;49m\u001b[38;5;28;43;01mFalse\u001b[39;49;00m\u001b[43m,\u001b[49m\n\u001b[1;32m    676\u001b[0m \u001b[43m        \u001b[49m\u001b[43mretries\u001b[49m\u001b[38;5;241;43m=\u001b[39;49m\u001b[38;5;28;43mself\u001b[39;49m\u001b[38;5;241;43m.\u001b[39;49m\u001b[43mmax_retries\u001b[49m\u001b[43m,\u001b[49m\n\u001b[1;32m    677\u001b[0m \u001b[43m        \u001b[49m\u001b[43mtimeout\u001b[49m\u001b[38;5;241;43m=\u001b[39;49m\u001b[43mtimeout\u001b[49m\u001b[43m,\u001b[49m\n\u001b[1;32m    678\u001b[0m \u001b[43m        \u001b[49m\u001b[43mchunked\u001b[49m\u001b[38;5;241;43m=\u001b[39;49m\u001b[43mchunked\u001b[49m\u001b[43m,\u001b[49m\n\u001b[1;32m    679\u001b[0m \u001b[43m    \u001b[49m\u001b[43m)\u001b[49m\n\u001b[1;32m    681\u001b[0m \u001b[38;5;28;01mexcept\u001b[39;00m (ProtocolError, \u001b[38;5;167;01mOSError\u001b[39;00m) \u001b[38;5;28;01mas\u001b[39;00m err:\n\u001b[1;32m    682\u001b[0m     \u001b[38;5;28;01mraise\u001b[39;00m \u001b[38;5;167;01mConnectionError\u001b[39;00m(err, request\u001b[38;5;241m=\u001b[39mrequest)\n",
      "File \u001b[0;32m~/Documents/School/Carroll_2024-25/SeniorProject-PortfolioManagement/.venv/lib/python3.10/site-packages/urllib3/connectionpool.py:787\u001b[0m, in \u001b[0;36mHTTPConnectionPool.urlopen\u001b[0;34m(self, method, url, body, headers, retries, redirect, assert_same_host, timeout, pool_timeout, release_conn, chunked, body_pos, preload_content, decode_content, **response_kw)\u001b[0m\n\u001b[1;32m    784\u001b[0m response_conn \u001b[38;5;241m=\u001b[39m conn \u001b[38;5;28;01mif\u001b[39;00m \u001b[38;5;129;01mnot\u001b[39;00m release_conn \u001b[38;5;28;01melse\u001b[39;00m \u001b[38;5;28;01mNone\u001b[39;00m\n\u001b[1;32m    786\u001b[0m \u001b[38;5;66;03m# Make the request on the HTTPConnection object\u001b[39;00m\n\u001b[0;32m--> 787\u001b[0m response \u001b[38;5;241m=\u001b[39m \u001b[38;5;28;43mself\u001b[39;49m\u001b[38;5;241;43m.\u001b[39;49m\u001b[43m_make_request\u001b[49m\u001b[43m(\u001b[49m\n\u001b[1;32m    788\u001b[0m \u001b[43m    \u001b[49m\u001b[43mconn\u001b[49m\u001b[43m,\u001b[49m\n\u001b[1;32m    789\u001b[0m \u001b[43m    \u001b[49m\u001b[43mmethod\u001b[49m\u001b[43m,\u001b[49m\n\u001b[1;32m    790\u001b[0m \u001b[43m    \u001b[49m\u001b[43murl\u001b[49m\u001b[43m,\u001b[49m\n\u001b[1;32m    791\u001b[0m \u001b[43m    \u001b[49m\u001b[43mtimeout\u001b[49m\u001b[38;5;241;43m=\u001b[39;49m\u001b[43mtimeout_obj\u001b[49m\u001b[43m,\u001b[49m\n\u001b[1;32m    792\u001b[0m \u001b[43m    \u001b[49m\u001b[43mbody\u001b[49m\u001b[38;5;241;43m=\u001b[39;49m\u001b[43mbody\u001b[49m\u001b[43m,\u001b[49m\n\u001b[1;32m    793\u001b[0m \u001b[43m    \u001b[49m\u001b[43mheaders\u001b[49m\u001b[38;5;241;43m=\u001b[39;49m\u001b[43mheaders\u001b[49m\u001b[43m,\u001b[49m\n\u001b[1;32m    794\u001b[0m \u001b[43m    \u001b[49m\u001b[43mchunked\u001b[49m\u001b[38;5;241;43m=\u001b[39;49m\u001b[43mchunked\u001b[49m\u001b[43m,\u001b[49m\n\u001b[1;32m    795\u001b[0m \u001b[43m    \u001b[49m\u001b[43mretries\u001b[49m\u001b[38;5;241;43m=\u001b[39;49m\u001b[43mretries\u001b[49m\u001b[43m,\u001b[49m\n\u001b[1;32m    796\u001b[0m \u001b[43m    \u001b[49m\u001b[43mresponse_conn\u001b[49m\u001b[38;5;241;43m=\u001b[39;49m\u001b[43mresponse_conn\u001b[49m\u001b[43m,\u001b[49m\n\u001b[1;32m    797\u001b[0m \u001b[43m    \u001b[49m\u001b[43mpreload_content\u001b[49m\u001b[38;5;241;43m=\u001b[39;49m\u001b[43mpreload_content\u001b[49m\u001b[43m,\u001b[49m\n\u001b[1;32m    798\u001b[0m \u001b[43m    \u001b[49m\u001b[43mdecode_content\u001b[49m\u001b[38;5;241;43m=\u001b[39;49m\u001b[43mdecode_content\u001b[49m\u001b[43m,\u001b[49m\n\u001b[1;32m    799\u001b[0m \u001b[43m    \u001b[49m\u001b[38;5;241;43m*\u001b[39;49m\u001b[38;5;241;43m*\u001b[39;49m\u001b[43mresponse_kw\u001b[49m\u001b[43m,\u001b[49m\n\u001b[1;32m    800\u001b[0m \u001b[43m\u001b[49m\u001b[43m)\u001b[49m\n\u001b[1;32m    802\u001b[0m \u001b[38;5;66;03m# Everything went great!\u001b[39;00m\n\u001b[1;32m    803\u001b[0m clean_exit \u001b[38;5;241m=\u001b[39m \u001b[38;5;28;01mTrue\u001b[39;00m\n",
      "File \u001b[0;32m~/Documents/School/Carroll_2024-25/SeniorProject-PortfolioManagement/.venv/lib/python3.10/site-packages/urllib3/connectionpool.py:534\u001b[0m, in \u001b[0;36mHTTPConnectionPool._make_request\u001b[0;34m(self, conn, method, url, body, headers, retries, timeout, chunked, response_conn, preload_content, decode_content, enforce_content_length)\u001b[0m\n\u001b[1;32m    532\u001b[0m \u001b[38;5;66;03m# Receive the response from the server\u001b[39;00m\n\u001b[1;32m    533\u001b[0m \u001b[38;5;28;01mtry\u001b[39;00m:\n\u001b[0;32m--> 534\u001b[0m     response \u001b[38;5;241m=\u001b[39m \u001b[43mconn\u001b[49m\u001b[38;5;241;43m.\u001b[39;49m\u001b[43mgetresponse\u001b[49m\u001b[43m(\u001b[49m\u001b[43m)\u001b[49m\n\u001b[1;32m    535\u001b[0m \u001b[38;5;28;01mexcept\u001b[39;00m (BaseSSLError, \u001b[38;5;167;01mOSError\u001b[39;00m) \u001b[38;5;28;01mas\u001b[39;00m e:\n\u001b[1;32m    536\u001b[0m     \u001b[38;5;28mself\u001b[39m\u001b[38;5;241m.\u001b[39m_raise_timeout(err\u001b[38;5;241m=\u001b[39me, url\u001b[38;5;241m=\u001b[39murl, timeout_value\u001b[38;5;241m=\u001b[39mread_timeout)\n",
      "File \u001b[0;32m~/Documents/School/Carroll_2024-25/SeniorProject-PortfolioManagement/.venv/lib/python3.10/site-packages/urllib3/connection.py:516\u001b[0m, in \u001b[0;36mHTTPConnection.getresponse\u001b[0;34m(self)\u001b[0m\n\u001b[1;32m    513\u001b[0m _shutdown \u001b[38;5;241m=\u001b[39m \u001b[38;5;28mgetattr\u001b[39m(\u001b[38;5;28mself\u001b[39m\u001b[38;5;241m.\u001b[39msock, \u001b[38;5;124m\"\u001b[39m\u001b[38;5;124mshutdown\u001b[39m\u001b[38;5;124m\"\u001b[39m, \u001b[38;5;28;01mNone\u001b[39;00m)\n\u001b[1;32m    515\u001b[0m \u001b[38;5;66;03m# Get the response from http.client.HTTPConnection\u001b[39;00m\n\u001b[0;32m--> 516\u001b[0m httplib_response \u001b[38;5;241m=\u001b[39m \u001b[38;5;28;43msuper\u001b[39;49m\u001b[43m(\u001b[49m\u001b[43m)\u001b[49m\u001b[38;5;241;43m.\u001b[39;49m\u001b[43mgetresponse\u001b[49m\u001b[43m(\u001b[49m\u001b[43m)\u001b[49m\n\u001b[1;32m    518\u001b[0m \u001b[38;5;28;01mtry\u001b[39;00m:\n\u001b[1;32m    519\u001b[0m     assert_header_parsing(httplib_response\u001b[38;5;241m.\u001b[39mmsg)\n",
      "File \u001b[0;32m~/.pyenv/versions/3.10.15/lib/python3.10/http/client.py:1375\u001b[0m, in \u001b[0;36mHTTPConnection.getresponse\u001b[0;34m(self)\u001b[0m\n\u001b[1;32m   1373\u001b[0m \u001b[38;5;28;01mtry\u001b[39;00m:\n\u001b[1;32m   1374\u001b[0m     \u001b[38;5;28;01mtry\u001b[39;00m:\n\u001b[0;32m-> 1375\u001b[0m         \u001b[43mresponse\u001b[49m\u001b[38;5;241;43m.\u001b[39;49m\u001b[43mbegin\u001b[49m\u001b[43m(\u001b[49m\u001b[43m)\u001b[49m\n\u001b[1;32m   1376\u001b[0m     \u001b[38;5;28;01mexcept\u001b[39;00m \u001b[38;5;167;01mConnectionError\u001b[39;00m:\n\u001b[1;32m   1377\u001b[0m         \u001b[38;5;28mself\u001b[39m\u001b[38;5;241m.\u001b[39mclose()\n",
      "File \u001b[0;32m~/.pyenv/versions/3.10.15/lib/python3.10/http/client.py:318\u001b[0m, in \u001b[0;36mHTTPResponse.begin\u001b[0;34m(self)\u001b[0m\n\u001b[1;32m    316\u001b[0m \u001b[38;5;66;03m# read until we get a non-100 response\u001b[39;00m\n\u001b[1;32m    317\u001b[0m \u001b[38;5;28;01mwhile\u001b[39;00m \u001b[38;5;28;01mTrue\u001b[39;00m:\n\u001b[0;32m--> 318\u001b[0m     version, status, reason \u001b[38;5;241m=\u001b[39m \u001b[38;5;28;43mself\u001b[39;49m\u001b[38;5;241;43m.\u001b[39;49m\u001b[43m_read_status\u001b[49m\u001b[43m(\u001b[49m\u001b[43m)\u001b[49m\n\u001b[1;32m    319\u001b[0m     \u001b[38;5;28;01mif\u001b[39;00m status \u001b[38;5;241m!=\u001b[39m CONTINUE:\n\u001b[1;32m    320\u001b[0m         \u001b[38;5;28;01mbreak\u001b[39;00m\n",
      "File \u001b[0;32m~/.pyenv/versions/3.10.15/lib/python3.10/http/client.py:279\u001b[0m, in \u001b[0;36mHTTPResponse._read_status\u001b[0;34m(self)\u001b[0m\n\u001b[1;32m    278\u001b[0m \u001b[38;5;28;01mdef\u001b[39;00m\u001b[38;5;250m \u001b[39m\u001b[38;5;21m_read_status\u001b[39m(\u001b[38;5;28mself\u001b[39m):\n\u001b[0;32m--> 279\u001b[0m     line \u001b[38;5;241m=\u001b[39m \u001b[38;5;28mstr\u001b[39m(\u001b[38;5;28;43mself\u001b[39;49m\u001b[38;5;241;43m.\u001b[39;49m\u001b[43mfp\u001b[49m\u001b[38;5;241;43m.\u001b[39;49m\u001b[43mreadline\u001b[49m\u001b[43m(\u001b[49m\u001b[43m_MAXLINE\u001b[49m\u001b[43m \u001b[49m\u001b[38;5;241;43m+\u001b[39;49m\u001b[43m \u001b[49m\u001b[38;5;241;43m1\u001b[39;49m\u001b[43m)\u001b[49m, \u001b[38;5;124m\"\u001b[39m\u001b[38;5;124miso-8859-1\u001b[39m\u001b[38;5;124m\"\u001b[39m)\n\u001b[1;32m    280\u001b[0m     \u001b[38;5;28;01mif\u001b[39;00m \u001b[38;5;28mlen\u001b[39m(line) \u001b[38;5;241m>\u001b[39m _MAXLINE:\n\u001b[1;32m    281\u001b[0m         \u001b[38;5;28;01mraise\u001b[39;00m LineTooLong(\u001b[38;5;124m\"\u001b[39m\u001b[38;5;124mstatus line\u001b[39m\u001b[38;5;124m\"\u001b[39m)\n",
      "File \u001b[0;32m~/.pyenv/versions/3.10.15/lib/python3.10/socket.py:717\u001b[0m, in \u001b[0;36mSocketIO.readinto\u001b[0;34m(self, b)\u001b[0m\n\u001b[1;32m    715\u001b[0m \u001b[38;5;28;01mwhile\u001b[39;00m \u001b[38;5;28;01mTrue\u001b[39;00m:\n\u001b[1;32m    716\u001b[0m     \u001b[38;5;28;01mtry\u001b[39;00m:\n\u001b[0;32m--> 717\u001b[0m         \u001b[38;5;28;01mreturn\u001b[39;00m \u001b[38;5;28;43mself\u001b[39;49m\u001b[38;5;241;43m.\u001b[39;49m\u001b[43m_sock\u001b[49m\u001b[38;5;241;43m.\u001b[39;49m\u001b[43mrecv_into\u001b[49m\u001b[43m(\u001b[49m\u001b[43mb\u001b[49m\u001b[43m)\u001b[49m\n\u001b[1;32m    718\u001b[0m     \u001b[38;5;28;01mexcept\u001b[39;00m timeout:\n\u001b[1;32m    719\u001b[0m         \u001b[38;5;28mself\u001b[39m\u001b[38;5;241m.\u001b[39m_timeout_occurred \u001b[38;5;241m=\u001b[39m \u001b[38;5;28;01mTrue\u001b[39;00m\n",
      "\u001b[0;31mKeyboardInterrupt\u001b[0m: "
     ]
    }
   ],
   "source": [
    "import random\n",
    "\n",
    "# Number of simulations\n",
    "num_simulations = 50\n",
    "\n",
    "# List to store the results\n",
    "returns_list = []\n",
    "\n",
    "for i in range(num_simulations):\n",
    "    \n",
    "    tickers = ticker_policy(df_results, \"Random\", sample_size = 15, random_state = i)\n",
    "    tickers_with_ext = [f\"{ticker}.US\" for ticker in tickers]\n",
    "    assets = tickers_with_ext\n",
    "    weights = [1/len(assets)] * len(assets) # Equal weights\n",
    "    \n",
    "    pf = ok.Portfolio(\n",
    "        assets=assets,\n",
    "        weights=weights,    \n",
    "        ccy='USD',\n",
    "        rebalancing_period='month',  # 'Q' for quarterly, 'A' for annual, etc.\n",
    "        first_date='2014-01',    # pick a reasonable start date (earliest is 2003-09 from initial assessment)\n",
    "        last_date='2024-02'       # pick an end date to evaluate\n",
    "    )\n",
    "            \n",
    "    # Run the Monte Carlo simulation with n=1\n",
    "    wealth = pf.monte_carlo_wealth(distr='norm', years=5, n=1)\n",
    "    \n",
    "    # Take the last row as the 1 year return\n",
    "    returns_y = wealth.iloc[-1, 0]\n",
    "    \n",
    "    # Store the result\n",
    "    returns_list.append(returns_y)\n",
    "\n",
    "returns_series = pd.Series(returns_list)\n",
    "returns = returns_series"
   ]
  },
  {
   "cell_type": "code",
   "execution_count": null,
   "metadata": {},
   "outputs": [],
   "source": [
    "# import tools\n",
    "from tools import save_portfolio_results, retrieve_portfolio_results\n",
    "\n",
    "# save_portfolio_results(portfolio_name=\"random_portfolio\", results=returns_series, simulation=\"monte_carlo\")\n",
    "returns = retrieve_portfolio_results(\"base_3m_5s_portfolio\", simulation=\"monte_carlo\")"
   ]
  },
  {
   "cell_type": "code",
   "execution_count": null,
   "metadata": {},
   "outputs": [
    {
     "name": "stdout",
     "output_type": "stream",
     "text": [
      "Average end value: $10587.0\n",
      "Standard Deviation: $954.32\n"
     ]
    }
   ],
   "source": [
    "from tools import retrieve_portfolio_results\n",
    "\n",
    "# load Monte Carlo results (series of final wealth values)\n",
    "returns = retrieve_portfolio_results(\"base_3m_5s_portfolio\", simulation=\"monte_carlo\")\n",
    "\n",
    "# raw stats\n",
    "print(\"Average end value: $\", round(returns.mean(), 2), sep=\"\")\n",
    "print(\"Std of end value: $\", round(returns.std(), 2), sep=\"\")\n",
    "\n",
    "# compute annualized returns\n",
    "initial_value = 10000\n",
    "sim_length_months = 3    # e.g. '3m' => 3 months\n",
    "years = sim_length_months / 12\n",
    "annualized = (returns / initial_value) ** (1/years) - 1\n",
    "\n",
    "print(f\"Average annualized return: {annualized.mean() * 100:.2f}%\")\n",
    "print(f\"Std annualized return: {annualized.std() * 100:.2f}%\")"
   ]
  },
  {
   "cell_type": "code",
   "execution_count": 147,
   "metadata": {},
   "outputs": [
    {
     "data": {
      "text/plain": [
       "<Axes: xlabel='2029-01', ylabel='Count'>"
      ]
     },
     "execution_count": 147,
     "metadata": {},
     "output_type": "execute_result"
    },
    {
     "data": {
      "image/png": "[encoded data removed]",
      "text/plain": [
       "<Figure size 640x480 with 1 Axes>"
      ]
     },
     "metadata": {},
     "output_type": "display_data"
    }
   ],
   "source": [
    "sns.histplot(returns_y)"
   ]
  },
  {
   "cell_type": "markdown",
   "metadata": {},
   "source": [
    "### Scenario Analysis"
   ]
  },
  {
   "cell_type": "code",
   "execution_count": 73,
   "metadata": {},
   "outputs": [
    {
     "data": {
      "text/html": [
       "<div>\n",
       "<style scoped>\n",
       "    .dataframe tbody tr th:only-of-type {\n",
       "        vertical-align: middle;\n",
       "    }\n",
       "\n",
       "    .dataframe tbody tr th {\n",
       "        vertical-align: top;\n",
       "    }\n",
       "\n",
       "    .dataframe thead th {\n",
       "        text-align: right;\n",
       "    }\n",
       "</style>\n",
       "<table border=\"1\" class=\"dataframe\">\n",
       "  <thead>\n",
       "    <tr style=\"text-align: right;\">\n",
       "      <th></th>\n",
       "      <th>Period</th>\n",
       "      <th>Overall Return (%)</th>\n",
       "      <th>Annual Return (%)</th>\n",
       "    </tr>\n",
       "    <tr>\n",
       "      <th>Contingency</th>\n",
       "      <th></th>\n",
       "      <th></th>\n",
       "      <th></th>\n",
       "    </tr>\n",
       "  </thead>\n",
       "  <tbody>\n",
       "    <tr>\n",
       "      <th>Housing Bust</th>\n",
       "      <td>2007-12 to 2009-03</td>\n",
       "      <td>-40.6</td>\n",
       "      <td>-34.1</td>\n",
       "    </tr>\n",
       "    <tr>\n",
       "      <th>Covid Bust</th>\n",
       "      <td>2020-01 to 2020-04</td>\n",
       "      <td>-14.1</td>\n",
       "      <td>-45.7</td>\n",
       "    </tr>\n",
       "    <tr>\n",
       "      <th>Decade Boom</th>\n",
       "      <td>2009-03 to 2019-12</td>\n",
       "      <td>808.3</td>\n",
       "      <td>22.8</td>\n",
       "    </tr>\n",
       "    <tr>\n",
       "      <th>Covid Boom</th>\n",
       "      <td>2020-04 to 2024-02</td>\n",
       "      <td>222.0</td>\n",
       "      <td>35.6</td>\n",
       "    </tr>\n",
       "    <tr>\n",
       "      <th>Two Decades</th>\n",
       "      <td>2004-02 to 2024-02</td>\n",
       "      <td>2695.7</td>\n",
       "      <td>18.1</td>\n",
       "    </tr>\n",
       "  </tbody>\n",
       "</table>\n",
       "</div>"
      ],
      "text/plain": [
       "                          Period  Overall Return (%)  Annual Return (%)\n",
       "Contingency                                                            \n",
       "Housing Bust  2007-12 to 2009-03               -40.6              -34.1\n",
       "Covid Bust    2020-01 to 2020-04               -14.1              -45.7\n",
       "Decade Boom   2009-03 to 2019-12               808.3               22.8\n",
       "Covid Boom    2020-04 to 2024-02               222.0               35.6\n",
       "Two Decades   2004-02 to 2024-02              2695.7               18.1"
      ]
     },
     "metadata": {},
     "output_type": "display_data"
    }
   ],
   "source": [
    "import pandas as pd\n",
    "\n",
    "# Define the contingency periods in a dictionary: (start_date, end_date)\n",
    "contingencies = {\n",
    "    \"Housing Bust\": (\"2007-12\", \"2009-03\"),\n",
    "    \"Covid Bust\": (\"2020-01\", \"2020-04\"),\n",
    "    \"Decade Boom\": (\"2009-03\", \"2019-12\"),\n",
    "    \"Covid Boom\": (\"2020-04\", \"2024-02\"),\n",
    "    \"Two Decades\": (\"2004-02\", \"2024-02\")\n",
    "}\n",
    "\n",
    "# Loop through each contingency, calculate returns, and store in a list of dictionaries\n",
    "results = []\n",
    "for label, (start_date, end_date) in contingencies.items():\n",
    "    overall, annual, _ = extract_return(pf.wealth_index, start_date, end_date)\n",
    "    results.append({\n",
    "        \"Contingency\": label,\n",
    "        \"Period\": f\"{start_date} to {end_date}\",\n",
    "        \"Overall Return (%)\": round(overall * 100, 1),\n",
    "        \"Annual Return (%)\": round(annual * 100, 1)\n",
    "    })\n",
    "\n",
    "# Create a DataFrame and nicely display it\n",
    "df_returns = pd.DataFrame(results).set_index(\"Contingency\")\n",
    "display(df_returns)"
   ]
  },
  {
   "cell_type": "code",
   "execution_count": 52,
   "metadata": {},
   "outputs": [
    {
     "data": {
      "image/png": "[encoded data removed]",
      "text/plain": [
       "<Figure size 1400x800 with 4 Axes>"
      ]
     },
     "metadata": {},
     "output_type": "display_data"
    }
   ],
   "source": [
    "import matplotlib.pyplot as plt\n",
    "\n",
    "contingencies = {\n",
    "    \"Housing Bust\": (\"2007-12\", \"2009-03\"),\n",
    "    \"COVID Bust\": (\"2020-01\", \"2020-04\"),\n",
    "    \"Decade Boom\": (\"2009-03\", \"2019-12\"),\n",
    "    \"COVID Boom\": (\"2020-04\", \"2024-12\")\n",
    "}\n",
    "\n",
    "fig, axes = plt.subplots(2, 2, figsize=(14, 8))\n",
    "axes = axes.flatten()  # Easier indexing of axes\n",
    "\n",
    "for ax, (name, (start, end)) in zip(axes, contingencies.items()):\n",
    "    wealth_index = pf.wealth_index[pf.wealth_index.columns[0]] / pf.wealth_index.loc[start, pf.wealth_index.columns[0]]\n",
    "    wealth_period = wealth_index.loc[start:end]\n",
    "\n",
    "    wealth_period.plot(ax=ax, title=name, xlim=[start, end])\n",
    "\n",
    "    # Dynamically adjust ylim\n",
    "    data_min, data_max = wealth_period.min(), wealth_period.max()\n",
    "    padding = (data_max - data_min) * 0.05\n",
    "    ax.set_ylim(data_min - padding, data_max + padding)\n",
    "\n",
    "plt.tight_layout()\n",
    "plt.show()"
   ]
  },
  {
   "cell_type": "markdown",
   "metadata": {},
   "source": [
    "### Recent Year Evaluation"
   ]
  },
  {
   "cell_type": "code",
   "execution_count": 10,
   "metadata": {},
   "outputs": [],
   "source": [
    "import okama as ok\n",
    "\n",
    "# tickers = list(df_results[\"ticker\"])\n",
    "\n",
    "tickers = list(base_portfolio[\"ticker\"])\n",
    "\n",
    "tickers_with_ext = [f\"{ticker}.US\" for ticker in tickers]\n",
    "\n",
    "\n",
    "assets = tickers_with_ext\n",
    "weights = [1/len(tickers)] * len(tickers)\n",
    "\n",
    "pf = ok.Portfolio(\n",
    "    assets=assets,\n",
    "    weights=weights,    \n",
    "    ccy='USD',\n",
    "    rebalancing_period='month',  # 'Q' for quarterly, 'A' for annual, etc.\n",
    "    first_date='2021-12',    # pick a reasonable start date (earliest is 2003-09 from initial assessment)\n",
    "    last_date='2024-12'       # pick an end date to evaluate\n",
    ")"
   ]
  },
  {
   "cell_type": "code",
   "execution_count": 11,
   "metadata": {},
   "outputs": [
    {
     "name": "stdout",
     "output_type": "stream",
     "text": [
      "Start date: 2021-12\n",
      "End date: 2024-12\n",
      "Return: 81.82%\n"
     ]
    }
   ],
   "source": [
    "def extract_return(wealth_index, start_date, end_date):\n",
    "    return wealth_index.loc[end_date, wealth_index.columns[0]] / wealth_index.loc[start_date, wealth_index.columns[0]] - 1\n",
    "\n",
    "start_date = \"2021-12\"\n",
    "end_date = \"2024-12\"\n",
    "\n",
    "ret = extract_return(pf.wealth_index, start_date, end_date)\n",
    "\n",
    "print(f\"Start date: {start_date}\")\n",
    "print(f\"End date: {end_date}\")\n",
    "# print(f\"Years: {end_date - start_date}\")\n",
    "print(f\"Return: {ret * 100:.2f}%\")\n",
    "# Annualized return\n",
    "\n",
    "# TODO: Show the year on year returns"
   ]
  },
  {
   "cell_type": "markdown",
   "metadata": {},
   "source": [
    "## Formal Hypotheses Tests"
   ]
  },
  {
   "cell_type": "code",
   "execution_count": 6,
   "metadata": {},
   "outputs": [
    {
     "name": "stdout",
     "output_type": "stream",
     "text": [
      "t-statistic: -2.266201285358999\n",
      "p-value: 0.02563811945184491\n",
      "Reject null hypothesis: False\n"
     ]
    }
   ],
   "source": [
    "# Setup code to run hypothesis test\n",
    "import numpy as np\n",
    "import pandas as pd\n",
    "from scipy import stats\n",
    "\n",
    "# Function to perform the hypothesis test (difference in means)\n",
    "\n",
    "def hypothesis_test(mean1, std1, n1, mean2, std2, n2, alpha=0.05):\n",
    "    # Calculate the t-statistic\n",
    "    t_stat = (mean1 - mean2) / np.sqrt((std1**2 / n1) + (std2**2 / n2))\n",
    "    \n",
    "    # Calculate the degrees of freedom\n",
    "    df = n1 + n2 - 2\n",
    "    \n",
    "    # Calculate the critical t-value\n",
    "    t_critical = stats.t.ppf(1 - alpha/2, df)\n",
    "    \n",
    "    # Calculate the p-value\n",
    "    p_value = 2 * (1 - stats.t.cdf(abs(t_stat), df))\n",
    "    \n",
    "    return t_stat, p_value, abs(t_stat) > t_critical\n",
    "\n",
    "# Example\n",
    "random_hb = (20597, 3313, 50)\n",
    "industry_hb = (20412, 5366, 50)\n",
    "random_mc = (36450, 17823, 50)\n",
    "industry_mc = (50958, 41612, 50)\n",
    "\n",
    "mean1, std1, n1 = random_mc\n",
    "mean2, std2, n2 = industry_mc\n",
    "\n",
    "alpha = 0.05 / 2 # Two-sided\n",
    "t_stat, p_value, reject_null = hypothesis_test(mean1, std1, n1, mean2, std2, n2, alpha)\n",
    "\n",
    "print(f\"t-statistic: {t_stat}\")\n",
    "print(f\"p-value: {p_value}\")\n",
    "print(f\"Reject null hypothesis: {reject_null}\")"
   ]
  }
 ],
 "metadata": {
  "kernelspec": {
   "display_name": ".venv",
   "language": "python",
   "name": "python3"
  },
  "language_info": {
   "codemirror_mode": {
    "name": "ipython",
    "version": 3
   },
   "file_extension": ".py",
   "mimetype": "text/x-python",
   "name": "python",
   "nbconvert_exporter": "python",
   "pygments_lexer": "ipython3",
   "version": "3.10.15"
  }
 },
 "nbformat": 4,
 "nbformat_minor": 2
}
